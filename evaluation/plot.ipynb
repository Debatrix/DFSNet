{
 "nbformat": 4,
 "nbformat_minor": 2,
 "metadata": {
  "language_info": {
   "name": "python",
   "codemirror_mode": {
    "name": "ipython",
    "version": 3
   },
   "version": "3.6.9"
  },
  "orig_nbformat": 2,
  "file_extension": ".py",
  "mimetype": "text/x-python",
  "name": "python",
  "npconvert_exporter": "python",
  "pygments_lexer": "ipython3",
  "version": 3
 },
 "cells": [
  {
   "cell_type": "code",
   "execution_count": 2,
   "metadata": {},
   "outputs": [],
   "source": [
    "import numpy as np\n",
    "import torch\n",
    "from scipy import stats\n",
    "from torch import nn\n",
    "from torch.utils.data import DataLoader\n",
    "from tqdm import tqdm\n",
    "\n",
    "from dataset import monoSimDataset\n",
    "from model.quality_model import EmbeddingNet, MobileNetV3_wtA, MobileNetV3_wA, MobileNetV3_Lite, MobileNetV2_Lite"
   ]
  },
  {
   "cell_type": "code",
   "execution_count": 10,
   "metadata": {},
   "outputs": [],
   "source": [
    "dataset_path = '/home/dl/wangleyuan/dataset/SD-Eyes'\n",
    "cp_path = \"checkpoints/1203_202301_MobileNetV2_Lite/421_1.3395e-03.pth\"\n",
    "model_name = 'MobileNetV2_Lite'\n",
    "device = \"cuda:2\""
   ]
  },
  {
   "cell_type": "code",
   "execution_count": 6,
   "metadata": {},
   "outputs": [],
   "source": [
    "if torch.cuda.is_available() and device is not None:\n",
    "        device = torch.device(device)\n",
    "else:\n",
    "    if not torch.cuda.is_available():\n",
    "        print(\"hey man, buy a GPU!\")\n",
    "    device = torch.device(\"cpu\")"
   ]
  },
  {
   "cell_type": "code",
   "execution_count": 7,
   "metadata": {},
   "outputs": [],
   "source": [
    "test_data = monoSimDataset(path=dataset_path, mode='test', seed=3141, debug_data=False, upsample=True)\n",
    "test_data_loader = DataLoader(test_data, 1, shuffle=False, drop_last=True)"
   ]
  },
  {
   "cell_type": "code",
   "execution_count": 11,
   "metadata": {},
   "outputs": [],
   "source": [
    "if model_name == 'MobileNetV3_wtA':\n",
    "    model = MobileNetV3_wtA()\n",
    "elif model_name == 'MobileNetV3_wA':\n",
    "    model = MobileNetV3_wA(0.5)\n",
    "elif model_name == 'MobileNetV3_Lite':\n",
    "    model = MobileNetV3_Lite(True)\n",
    "elif model_name == 'MobileNetV2_Lite':\n",
    "    model = MobileNetV2_Lite(True, True, 0.5)\n",
    "elif model_name == 'EmbeddingNet':\n",
    "    model = EmbeddingNet(False)\n",
    "else:\n",
    "    model = None\n",
    "assert model is not None\n",
    "model.to(device)\n",
    "if cp_path:\n",
    "    cp_data = torch.load(cp_path, map_location=device)\n",
    "    try:\n",
    "        model.load_state_dict(cp_data['model'])\n",
    "    except Exception as e:\n",
    "        model.load_state_dict(cp_data['model'], strict=False)\n",
    "        print(e)"
   ]
  },
  {
   "cell_type": "code",
   "execution_count": null,
   "metadata": {},
   "outputs": [],
   "source": [
    "if model_name.split('_')[0] == 'MobileNetV3':\n",
    "    model.train()\n",
    "else:\n",
    "    model.eval()\n",
    "with torch.no_grad():\n",
    "    test_pred_epoch_loss = 0\n",
    "    test_mask_epoch_loss = 0\n",
    "    scores = np.zeros((1))\n",
    "    prediction = np.zeros((1))\n",
    "    for img, mask, target in tqdm(test_data_loader, desc='[{}] test_batch'.format(epoch),\n",
    "                                    bar_format='{desc}: {n_fmt}/{total_fmt} -{percentage:3.0f}%'):\n",
    "        if model_name == 'MobileNetV3_Lite':\n",
    "            mask = mask.to(torch.long)\n",
    "        img = img.to(device)\n",
    "        mask = mask.to(device)\n",
    "        target = target.to(device)\n",
    "        pred, heatmap = model(img)\n",
    "        test_pred_loss = pred_criterion(pred, target)\n",
    "        test_mask_loss = mask_criterion(heatmap, mask)\n",
    "        test_pred_epoch_loss += test_pred_loss.item()\n",
    "        test_mask_epoch_loss += test_mask_loss.item()\n",
    "        scores = np.append(scores, target.cpu().numpy().reshape((-1)))\n",
    "        prediction = np.append(prediction, pred.cpu().numpy().reshape((-1)))\n",
    "    test_pred_loss = test_pred_epoch_loss / len(test_data_loader)\n",
    "    test_mask_loss = test_mask_epoch_loss / len(test_data_loader)\n",
    "    prediction = np.nan_to_num(prediction)\n",
    "    srocc = stats.spearmanr(prediction[1:], scores[1:])[0]\n",
    "    lcc = stats.pearsonr(prediction[1:], scores[1:])[0]\n",
    "\n",
    "    print(\"[{}] Test - prediction loss: {:.4e}\".format(epoch, test_pred_loss))\n",
    "    print(\"[{}] Test - mask loss: {:.4e}\".format(epoch, test_mask_loss))\n",
    "    print(\"[{}] Test - LCC: {:.4f}, SROCC: {:.4f}\".format(epoch, lcc, srocc))"
   ]
  }
 ]
}