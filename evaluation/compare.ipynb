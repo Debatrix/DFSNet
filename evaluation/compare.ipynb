{
 "cells": [
  {
   "cell_type": "code",
   "execution_count": 44,
   "metadata": {},
   "outputs": [],
   "source": [
    "import os\n",
    "import time\n",
    "\n",
    "import numpy as np\n",
    "import pickle\n",
    "import scipy.io as scio\n",
    "import torch\n",
    "import torchvision.transforms.functional as transforms\n",
    "from scipy import stats\n",
    "from torch import nn\n",
    "from torch.utils.data import DataLoader\n",
    "from tqdm import tqdm\n",
    "from thop import clever_format\n",
    "from thop import profile\n",
    "from sklearn import metrics\n",
    "from sklearn.preprocessing import normalize\n",
    "import matplotlib.pyplot as plt\n",
    "import matplotlib.mlab as mlab \n",
    "\n",
    "from dataset import monoSimDataset\n",
    "from model.loss import FocalLoss, CrossEntropy2d\n",
    "from model.quality_model import MobileNetV2_Lite_shower, MobileNetV3_wA, MobileNetV3_Lite, MobileNetV2_Lite"
   ]
  },
  {
   "cell_type": "code",
   "execution_count": 142,
   "metadata": {},
   "outputs": [],
   "source": [
    "def cal_DET(sim, labels):\n",
    "    label_num = len(labels)\n",
    "    sim = sim[~np.eye(label_num, dtype=np.bool)]\n",
    "    if labels.max() == 1 and labels.min() == 0 and labels.shape[0] != labels.shape[1]:\n",
    "        label = np.dot(labels, labels.T)\n",
    "    else:\n",
    "        label = np.zeros((label_num, label_num))\n",
    "        for x in range(label_num):\n",
    "            for y in range(label_num):\n",
    "                label[x, y] = labels[x] == labels[y]\n",
    "    label = label[~np.eye(label_num, dtype=np.bool)].astype(np.bool)\n",
    "\n",
    "    fpr, tpr, thresholds = metrics.roc_curve(label, sim)\n",
    "    fnr = 1 - tpr\n",
    "\n",
    "    eer = fpr[np.argmin(np.abs(fpr - fnr))]\n",
    "    roc_auc = metrics.auc(fpr, tpr)\n",
    "    return eer, fnr, fpr, roc_auc, thresholds"
   ]
  },
  {
   "cell_type": "code",
   "execution_count": 67,
   "metadata": {},
   "outputs": [],
   "source": [
    "tj_dataset_path = '/home/dl/wangleyuan/dataset/TJ-Eyes'\n",
    "sd_dataset_path = '/home/dl/wangleyuan/dataset/SD-Eyes'\n",
    "\n",
    "cp_path = cp_path = \"checkpoints/1203_202301_MobileNetV2_Lite/421_1.3395e-03.pth\"\n",
    "model_name = 'MobileNetV2_Lite'\n",
    "seed = 2248\n",
    "device = 'cuda:0'"
   ]
  },
  {
   "cell_type": "code",
   "execution_count": 8,
   "metadata": {},
   "outputs": [],
   "source": [
    "with open(tj_dataset_path + '/test.txt','r') as f:\n",
    "    tj_p_list = [x.strip().split(' ') for x in f.readlines()]\n",
    "tj_index = {x[0]:(x[1],x[2]) for x in tj_p_list}\n",
    "tj_sim = (scio.loadmat(tj_dataset_path + '/sim.mat')['sim'] +1)/2\n",
    "\n",
    "with open(sd_dataset_path + '/test.txt','r') as f:\n",
    "    sd_p_list = [x.strip().split(' ') for x in f.readlines()]\n",
    "sd_index = {x[0]:(x[1],x[2]) for x in sd_p_list}\n",
    "sd_sim = (scio.loadmat(sd_dataset_path + '/sim.mat')['sim'] +1)/2"
   ]
  },
  {
   "cell_type": "code",
   "execution_count": 16,
   "metadata": {},
   "outputs": [
    {
     "name": "stdout",
     "output_type": "stream",
     "text": [
      "TJ All Test EER:28.59% FNMR:100.00%\n",
      "SD All Test  EER:12.41% FNMR:100.00%\n"
     ]
    }
   ],
   "source": [
    "tj_test_sim = np.zeros((len(tj_index), len(tj_index)))\n",
    "for tx , d in enumerate(tj_p_list):\n",
    "    sx = int(d[2])\n",
    "    for ty, d in enumerate(tj_p_list):\n",
    "        sy = int(d[2])\n",
    "        tj_test_sim[tx, ty] = tj_sim[sx,sy]\n",
    "tj_test_labels = np.array([int(x[1]) for x in tj_p_list])\n",
    "eer, fnr, fpr, roc_auc, thresholds = cal_DET(tj_test_sim, tj_test_labels)\n",
    "fnmr = fnr[np.argmin(np.abs(fpr - 1e-5))]\n",
    "print('TJ All Test EER:{:.2f}% FNMR:{:.2f}%'.format(eer*100, fnmr*100))\n",
    "\n",
    "sd_test_sim = np.zeros((len(sd_index), len(sd_index)))\n",
    "for tx , d in enumerate(sd_p_list):\n",
    "    sx = int(d[2])\n",
    "    for ty, d in enumerate(sd_p_list):\n",
    "        sy = int(d[2])\n",
    "        sd_test_sim[tx, ty] = sd_sim[sx,sy]\n",
    "sd_test_labels = np.array([int(x[1]) for x in sd_p_list])\n",
    "eer, fnr, fpr, roc_auc, thresholds = cal_DET(sd_test_sim, sd_test_labels)\n",
    "fnmr = fnr[np.argmin(np.abs(fpr - 1e-5))]\n",
    "print('SD All Test EER:{:.2f}% FNMR:{:.2f}%'.format(eer*100, fnmr*100))"
   ]
  },
  {
   "cell_type": "code",
   "execution_count": 15,
   "metadata": {},
   "outputs": [
    {
     "name": "stdout",
     "output_type": "stream",
     "text": [
      "SD All Test EER:1.28% FNMR:100.00%\n"
     ]
    }
   ],
   "source": [
    "with open(sd_dataset_path + '/hq.txt','r') as f:\n",
    "    sd_hq_set = set([x.split(' ')[0] for x in f.readlines()])\n",
    "sd_hq_names = [x[0] for x in sd_p_list if x[0] in sd_hq_set]\n",
    "\n",
    "sd_test_sim = np.zeros((len(sd_hq_names), len(sd_hq_names)))\n",
    "for tx , d in enumerate(sd_hq_names):\n",
    "    sx = int(sd_index[d][1])\n",
    "    for ty, d in enumerate(sd_hq_names):\n",
    "        sy = int(sd_index[d][1])\n",
    "        sd_test_sim[tx, ty] = sd_sim[sx,sy]\n",
    "sd_test_labels = np.array([int(sd_index[x][0]) for x in sd_hq_names])\n",
    "eer, fnr, fpr, roc_auc, thresholds = cal_DET(sd_test_sim, sd_test_labels)\n",
    "fnmr = fnr[np.argmin(np.abs(fpr - 1e-5))]\n",
    "print('SD All Test EER:{:.2f}% FNMR:{:.2f}%'.format(eer*100, fnmr*100))"
   ]
  },
  {
   "cell_type": "code",
   "execution_count": 18,
   "metadata": {},
   "outputs": [
    {
     "name": "stdout",
     "output_type": "stream",
     "text": [
      "92\n",
      "TJ All Test EER:16.46% FNMR:100.00%\n"
     ]
    }
   ],
   "source": [
    "tj_hq_names = [x[0] for x in tj_p_list if x[0][8] == '1']\n",
    "print(len(tj_hq_names))\n",
    "\n",
    "tj_test_sim = np.zeros((len(tj_hq_names), len(tj_hq_names)))\n",
    "for tx , d in enumerate(tj_hq_names):\n",
    "    sx = int(tj_index[d][1])\n",
    "    for ty, d in enumerate(tj_hq_names):\n",
    "        sy = int(tj_index[d][1])\n",
    "        tj_test_sim[tx, ty] = tj_sim[sx,sy]\n",
    "tj_test_labels = np.array([int(tj_index[x][0]) for x in tj_hq_names])\n",
    "eer, fnr, fpr, roc_auc, thresholds = cal_DET(tj_test_sim, tj_test_labels)\n",
    "fnmr = fnr[np.argmin(np.abs(fpr - 1e-5))]\n",
    "print('TJ All Test EER:{:.2f}% FNMR:{:.2f}%'.format(eer*100, fnmr*100))"
   ]
  },
  {
   "cell_type": "code",
   "execution_count": 154,
   "metadata": {},
   "outputs": [
    {
     "name": "stdout",
     "output_type": "stream",
     "text": [
      "92\n"
     ]
    },
    {
     "data": {
      "image/png": "[encoded data removed]",
      "text/plain": [
       "<Figure size 432x288 with 1 Axes>"
      ]
     },
     "metadata": {
      "needs_background": "light"
     },
     "output_type": "display_data"
    }
   ],
   "source": [
    "plt.figure()\n",
    "tj_test_sim = np.zeros((len(tj_index), len(tj_index)))\n",
    "for tx , d in enumerate(tj_p_list):\n",
    "    sx = int(d[2])\n",
    "    for ty, d in enumerate(tj_p_list):\n",
    "        sy = int(d[2])\n",
    "        tj_test_sim[tx, ty] = tj_sim[sx,sy]\n",
    "tj_test_labels = np.array([int(x[1]) for x in tj_p_list])\n",
    "eer1, fnr1, fpr1, roc_auc, thresholds = cal_DET(tj_test_sim, tj_test_labels)\n",
    "\n",
    "\n",
    "tj_hq_names = [x[0] for x in tj_p_list if x[0][8] == '1']\n",
    "print(len(tj_hq_names))\n",
    "\n",
    "tj_test_sim = np.zeros((len(tj_hq_names), len(tj_hq_names)))\n",
    "for tx , d in enumerate(tj_hq_names):\n",
    "    sx = int(tj_index[d][1])\n",
    "    for ty, d in enumerate(tj_hq_names):\n",
    "        sy = int(tj_index[d][1])\n",
    "        tj_test_sim[tx, ty] = tj_sim[sx,sy]\n",
    "tj_test_labels = np.array([int(tj_index[x][0]) for x in tj_hq_names])\n",
    "eer2, fnr2, fpr2, roc_auc, thresholds = cal_DET(tj_test_sim, tj_test_labels)\n",
    "\n",
    "plt.plot(fpr1,fnr1,c='r',label='Non-ideal eer={:.2f}%'.format(eer1*100))\n",
    "plt.plot(fpr2,fnr2,c='g',label='Ideal eer={:.2f}%'.format(eer2*100))\n",
    "# plt.yscale('log')\n",
    "plt.xscale('log')\n",
    "plt.xlabel('FPR')\n",
    "plt.ylabel('FNR')\n",
    "plt.legend(loc = 'upper right')\n",
    "plt.plot(np.arange(0,1,0.01),np.arange(0,1,0.01),linestyle='-.',c='gray',label='eer')\n",
    "plt.show()"
   ]
  },
  {
   "cell_type": "code",
   "execution_count": 155,
   "metadata": {},
   "outputs": [
    {
     "data": {
      "image/png": "[encoded data removed]",
      "text/plain": [
       "<Figure size 432x288 with 1 Axes>"
      ]
     },
     "metadata": {
      "needs_background": "light"
     },
     "output_type": "display_data"
    }
   ],
   "source": [
    "sd_test_sim = np.zeros((len(sd_index), len(sd_index)))\n",
    "for tx , d in enumerate(sd_p_list):\n",
    "    sx = int(d[2])\n",
    "    for ty, d in enumerate(sd_p_list):\n",
    "        sy = int(d[2])\n",
    "        sd_test_sim[tx, ty] = sd_sim[sx,sy]\n",
    "sd_test_labels = np.array([int(x[1]) for x in sd_p_list])\n",
    "eer1, fnr1, fpr1, roc_auc, thresholds = cal_DET(sd_test_sim, sd_test_labels)\n",
    "\n",
    "sd_test_sim = np.zeros((len(sd_hq_names), len(sd_hq_names)))\n",
    "for tx , d in enumerate(sd_hq_names):\n",
    "    sx = int(sd_index[d][1])\n",
    "    for ty, d in enumerate(sd_hq_names):\n",
    "        sy = int(sd_index[d][1])\n",
    "        sd_test_sim[tx, ty] = sd_sim[sx,sy]\n",
    "sd_test_labels = np.array([int(sd_index[x][0]) for x in sd_hq_names])\n",
    "eer2, fnr2, fpr2, roc_auc, thresholds = cal_DET(sd_test_sim, sd_test_labels)\n",
    "\n",
    "plt.plot(fpr1,fnr1,c='r',label='Non-ideal eer={:.2f}%'.format(eer1*100))\n",
    "plt.plot(fpr2,fnr2,c='g',label='Ideal eer={:.2f}%'.format(eer2*100))\n",
    "plt.xscale('log')\n",
    "plt.xlabel('FPR')\n",
    "plt.ylabel('FNR')\n",
    "plt.legend(loc = 'upper right')\n",
    "plt.plot(np.arange(0,1,0.01),np.arange(0,1,0.01),linestyle='-.',c='gray',label='eer')\n",
    "plt.show()"
   ]
  },
  {
   "cell_type": "code",
   "execution_count": 19,
   "metadata": {},
   "outputs": [],
   "source": [
    "with open('tj_train_quality.txt', 'r') as f:\n",
    "    qdata = [x.strip() for x in f.readlines()]\n",
    "qdict = {x.split(',')[0]:[float(y) for y in x.split(',')[1].split(' ')[1:]] for x in qdata}\n",
    "\n",
    "qarray = np.zeros((len(qdict),5))\n",
    "for idx,n in enumerate(qdict.keys()):\n",
    "    qarray[idx,:] = np.array(qdict[n])\n",
    "\n",
    "tj_fm = qarray[:, 0]\n",
    "tj_size = qarray[:, 1]\n",
    "tj_dilation = qarray[:, 2]\n",
    "tj_gls = qarray[:, 3]\n",
    "tj_uar = qarray[:, 4]\n",
    "\n",
    "with open('sd_train_quality.txt', 'r') as f:\n",
    "    qdata = [x.strip() for x in f.readlines()]\n",
    "qdict = {x.split(',')[0]:[float(y) for y in x.split(',')[1].split(' ')[1:]] for x in qdata}\n",
    "\n",
    "qarray = np.zeros((len(qdict),5))\n",
    "for idx,n in enumerate(qdict.keys()):\n",
    "    qarray[idx,:] = np.array(qdict[n])\n",
    "\n",
    "sd_fm = qarray[:, 0]\n",
    "sd_size = qarray[:, 1]\n",
    "sd_dilation = qarray[:, 2]\n",
    "sd_gls = qarray[:, 3]\n",
    "sd_uar = qarray[:, 4]"
   ]
  },
  {
   "cell_type": "code",
   "execution_count": null,
   "metadata": {},
   "outputs": [],
   "source": []
  },
  {
   "cell_type": "code",
   "execution_count": 36,
   "metadata": {},
   "outputs": [
    {
     "data": {
      "text/plain": [
       "<matplotlib.legend.Legend at 0x7fc3e2776358>"
      ]
     },
     "execution_count": 36,
     "metadata": {},
     "output_type": "execute_result"
    },
    {
     "data": {
      "image/png": "[encoded data removed]",
      "text/plain": [
       "<Figure size 432x288 with 1 Axes>"
      ]
     },
     "metadata": {
      "needs_background": "light"
     },
     "output_type": "display_data"
    }
   ],
   "source": [
    "sd_mu = np.mean(sd_fm)\n",
    "sd_sigma = np.std(sd_fm)\n",
    "tj_mu = np.mean(tj_fm)\n",
    "tj_sigma = np.std(tj_fm)\n",
    "\n",
    "tj_count, tj_bins, _ = plt.hist(tj_fm,bins=20, edgecolor='k', density=True,alpha=0.95, label='distant')\n",
    "sd_count, sd_bins, _ = plt.hist(sd_fm,bins=20, edgecolor='k', density=True,alpha=0.75, label='close')\n",
    "\n",
    "plt.xlabel('Sharpness', fontsize=15)\n",
    "plt.legend(fontsize=15)\n",
    "\n",
    "# plt.plot(tj_bins, 1./(np.sqrt(2*np.pi)*tj_sigma)*np.exp(-(tj_bins-tj_mu)**2/(2*tj_sigma**2)), lw=2, c='b')\n",
    "# plt.plot(sd_bins, 1./(np.sqrt(2*np.pi)*sd_sigma)*np.exp(-(sd_bins-tj_mu)**2/(2*sd_sigma**2)), lw=2, c='r')"
   ]
  },
  {
   "cell_type": "code",
   "execution_count": 37,
   "metadata": {},
   "outputs": [
    {
     "data": {
      "text/plain": [
       "<matplotlib.legend.Legend at 0x7fc3e29c3e48>"
      ]
     },
     "execution_count": 37,
     "metadata": {},
     "output_type": "execute_result"
    },
    {
     "data": {
      "image/png": "[encoded data removed]",
      "text/plain": [
       "<Figure size 432x288 with 1 Axes>"
      ]
     },
     "metadata": {
      "needs_background": "light"
     },
     "output_type": "display_data"
    }
   ],
   "source": [
    "tj_count, tj_bins, _ = plt.hist(tj_size,bins=20, edgecolor='k', density=True,alpha=0.95, label='distant')\n",
    "sd_count, sd_bins, _ = plt.hist(sd_size,bins=20, edgecolor='k', density=True,alpha=0.75, label='close')\n",
    "\n",
    "plt.xlabel('Iris size', fontsize=15)\n",
    "plt.legend(fontsize=15)"
   ]
  },
  {
   "cell_type": "code",
   "execution_count": 38,
   "metadata": {},
   "outputs": [
    {
     "data": {
      "text/plain": [
       "<matplotlib.legend.Legend at 0x7fc3e2668e80>"
      ]
     },
     "execution_count": 38,
     "metadata": {},
     "output_type": "execute_result"
    },
    {
     "data": {
      "image/png": "[encoded data removed]",
      "text/plain": [
       "<Figure size 432x288 with 1 Axes>"
      ]
     },
     "metadata": {
      "needs_background": "light"
     },
     "output_type": "display_data"
    }
   ],
   "source": [
    "tj_count, tj_bins, _ = plt.hist(tj_dilation,bins=20, edgecolor='k', density=True,alpha=0.95, label='distant')\n",
    "sd_count, sd_bins, _ = plt.hist(sd_dilation,bins=20, edgecolor='k', density=True,alpha=0.75, label='close')\n",
    "\n",
    "plt.xlabel('Dilation', fontsize=15)\n",
    "plt.legend(fontsize=15)"
   ]
  },
  {
   "cell_type": "code",
   "execution_count": 39,
   "metadata": {},
   "outputs": [
    {
     "data": {
      "text/plain": [
       "<matplotlib.legend.Legend at 0x7fc3e25d8e80>"
      ]
     },
     "execution_count": 39,
     "metadata": {},
     "output_type": "execute_result"
    },
    {
     "data": {
      "image/png": "[encoded data removed]",
      "text/plain": [
       "<Figure size 432x288 with 1 Axes>"
      ]
     },
     "metadata": {
      "needs_background": "light"
     },
     "output_type": "display_data"
    }
   ],
   "source": [
    "tj_count, tj_bins, _ = plt.hist(tj_gls,bins=20, edgecolor='k', density=True,alpha=0.95, label='distant')\n",
    "sd_count, sd_bins, _ = plt.hist(sd_gls,bins=20, edgecolor='k', density=True,alpha=0.75, label='close')\n",
    "\n",
    "plt.xlabel('GLS', fontsize=15)\n",
    "plt.legend(fontsize=15)"
   ]
  },
  {
   "cell_type": "code",
   "execution_count": 40,
   "metadata": {},
   "outputs": [
    {
     "data": {
      "text/plain": [
       "<matplotlib.legend.Legend at 0x7fc3e2527320>"
      ]
     },
     "execution_count": 40,
     "metadata": {},
     "output_type": "execute_result"
    },
    {
     "data": {
      "image/png": "[encoded data removed]",
      "text/plain": [
       "<Figure size 432x288 with 1 Axes>"
      ]
     },
     "metadata": {
      "needs_background": "light"
     },
     "output_type": "display_data"
    }
   ],
   "source": [
    "tj_count, tj_bins, _ = plt.hist(tj_uar,bins=20, edgecolor='k', density=True,alpha=0.95, label='distant')\n",
    "sd_count, sd_bins, _ = plt.hist(sd_uar,bins=20, edgecolor='k', density=True,alpha=0.75, label='close')\n",
    "\n",
    "plt.xlabel('Usable area', fontsize=15)\n",
    "plt.legend(fontsize=15)"
   ]
  },
  {
   "cell_type": "code",
   "execution_count": 68,
   "metadata": {},
   "outputs": [
    {
     "name": "stdout",
     "output_type": "stream",
     "text": [
      "info=v2 multi_linear sim 0~1 adam l1loss\n",
      "dataset_path=/home/dl/wangleyuan/dataset/SD-Eyes\n",
      "cp_path=\n",
      "cp_num=5\n",
      "visible=True\n",
      "model=MobileNetV2_Lite\n",
      "seed=2248\n",
      "debug=False\n",
      "mask_learn_rate=0.003125\n",
      "mask_lr_decay=0.5\n",
      "upout=True\n",
      "batch_size=24\n",
      "device=cuda:2\n",
      "num_workers=2\n",
      "max_epochs=500\n",
      "lr=0.0004\n",
      "momentum=0.9\n",
      "weight_decay=0.0005\n",
      "name=1203_202301_MobileNetV2_Lite\n",
      "\n"
     ]
    }
   ],
   "source": [
    "test_data = monoSimDataset(path=sd_dataset_path, mode='test', seed=seed, debug_data=False,upsample=True)\n",
    "\n",
    "model = MobileNetV2_Lite_shower(True, True, 0.5)\n",
    "assert model is not None\n",
    "model.to('cpu')\n",
    "assert cp_path is not ''\n",
    "cp_data = torch.load(cp_path, map_location=device)\n",
    "try:\n",
    "    model.load_state_dict(cp_data['model'])\n",
    "except Exception as e:\n",
    "    model.load_state_dict(cp_data['model'], strict=False)\n",
    "    print(e)\n",
    "\n",
    "cp_data['cfg'] = '' if 'cfg' not in cp_data else cp_data['cfg']\n",
    "print(cp_data['cfg'])"
   ]
  },
  {
   "cell_type": "code",
   "execution_count": 69,
   "metadata": {},
   "outputs": [
    {
     "name": "stdout",
     "output_type": "stream",
     "text": [
      "torch.Size([1, 3, 480, 640])\n",
      "0002_2_1_2_22_005.bmp tensor([0.7646])\n"
     ]
    }
   ],
   "source": [
    "img, mask, target, name = test_data[15]\n",
    "img_tensor = torch.unsqueeze(img, 0).to('cpu')\n",
    "mask_tensor = torch.unsqueeze(mask, 0)\n",
    "print(img_tensor.shape)\n",
    "print(name,target)\n",
    "\n",
    "# img = transforms.to_pil_image(img)\n",
    "# mask = transforms.to_pil_image(mask*255)\n",
    "# plt.imshow(mask, cmap ='gray')\n",
    "# mask_tensor.max()"
   ]
  },
  {
   "cell_type": "code",
   "execution_count": 125,
   "metadata": {},
   "outputs": [
    {
     "name": "stdout",
     "output_type": "stream",
     "text": [
      "torch.Size([1, 1]) torch.Size([1, 2, 120, 160]) torch.Size([1, 32, 60, 80]) torch.Size([1, 1280, 15, 20])\n"
     ]
    }
   ],
   "source": [
    "pred, heatmap, short, feat = model(img_tensor)\n",
    "model.eval()\n",
    "print(pred.shape, heatmap.shape, short.shape, feat.shape)"
   ]
  },
  {
   "cell_type": "code",
   "execution_count": 127,
   "metadata": {},
   "outputs": [
    {
     "data": {
      "text/plain": [
       "(-0.5, 159.5, 119.5, -0.5)"
      ]
     },
     "execution_count": 127,
     "metadata": {},
     "output_type": "execute_result"
    },
    {
     "data": {
      "image/png": "[encoded data removed]",
      "text/plain": [
       "<Figure size 432x288 with 1 Axes>"
      ]
     },
     "metadata": {
      "needs_background": "light"
     },
     "output_type": "display_data"
    }
   ],
   "source": [
    "heatmap = torch.softmax(heatmap, 1)\n",
    "heatmap_img = transforms.to_pil_image(heatmap[0,0,:,:])\n",
    "plt.imshow(heatmap_img, cmap='gray_r')\n",
    "plt.axis('off')"
   ]
  },
  {
   "cell_type": "code",
   "execution_count": 133,
   "metadata": {},
   "outputs": [
    {
     "data": {
      "text/plain": [
       "(-0.5, 79.5, 59.5, -0.5)"
      ]
     },
     "execution_count": 133,
     "metadata": {},
     "output_type": "execute_result"
    },
    {
     "data": {
      "image/png": "[encoded data removed]",
      "text/plain": [
       "<Figure size 432x288 with 1 Axes>"
      ]
     },
     "metadata": {
      "needs_background": "light"
     },
     "output_type": "display_data"
    }
   ],
   "source": [
    "idx = 5\n",
    "short1 = transforms.to_pil_image(short[0,idx:idx+3,:,:])\n",
    "plt.imshow(short1)\n",
    "plt.axis('off')"
   ]
  },
  {
   "cell_type": "code",
   "execution_count": 138,
   "metadata": {},
   "outputs": [
    {
     "name": "stdout",
     "output_type": "stream",
     "text": [
      "tensor([965, 846, 533])\n"
     ]
    },
    {
     "data": {
      "text/plain": [
       "(-0.5, 19.5, 14.5, -0.5)"
      ]
     },
     "execution_count": 138,
     "metadata": {},
     "output_type": "execute_result"
    },
    {
     "data": {
      "image/png": "[encoded data removed]",
      "text/plain": [
       "<Figure size 432x288 with 1 Axes>"
      ]
     },
     "metadata": {
      "needs_background": "light"
     },
     "output_type": "display_data"
    }
   ],
   "source": [
    "\n",
    "featsum,index = torch.topk(feat[0].sum((1,2)), 7)\n",
    "print(index[-3:])\n",
    "idx = index[-1]\n",
    "feat1 = transforms.to_pil_image(feat[0,idx,:,:])\n",
    "plt.imshow(feat1)\n",
    "plt.axis('off')"
   ]
  },
  {
   "cell_type": "code",
   "execution_count": null,
   "metadata": {},
   "outputs": [],
   "source": []
  }
 ],
 "metadata": {
  "kernelspec": {
   "display_name": "Python 3",
   "language": "python",
   "name": "python3"
  },
  "language_info": {
   "codemirror_mode": {
    "name": "ipython",
    "version": 3
   },
   "file_extension": ".py",
   "mimetype": "text/x-python",
   "name": "python",
   "nbconvert_exporter": "python",
   "pygments_lexer": "ipython3",
   "version": "3.7.3"
  }
 },
 "nbformat": 4,
 "nbformat_minor": 2
}
