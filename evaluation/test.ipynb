{
 "cells": [
  {
   "cell_type": "code",
   "execution_count": 4,
   "metadata": {},
   "outputs": [
    {
     "name": "stdout",
     "output_type": "stream",
     "text": [
      "/home/dl/wangleyuan/Rwork\r\n"
     ]
    }
   ],
   "source": [
    "import os\n",
    "os.chdir('..')"
   ]
  },
  {
   "cell_type": "code",
   "execution_count": 3,
   "metadata": {},
   "outputs": [
    {
     "ename": "ImportError",
     "evalue": "cannot import name 'importMobileNetV2_Lite' from 'model.quality_model' (/home/dl/wangleyuan/Rwork/cnnQuality/model/quality_model.py)",
     "output_type": "error",
     "traceback": [
      "\u001b[0;31m---------------------------------------------------------------------------\u001b[0m",
      "\u001b[0;31mImportError\u001b[0m                               Traceback (most recent call last)",
      "\u001b[0;32m<ipython-input-3-c982b0bbc5c6>\u001b[0m in \u001b[0;36m<module>\u001b[0;34m\u001b[0m\n\u001b[1;32m     18\u001b[0m \u001b[0;32mfrom\u001b[0m \u001b[0mdataset\u001b[0m \u001b[0;32mimport\u001b[0m \u001b[0mmonoSimDataset\u001b[0m\u001b[0;34m\u001b[0m\u001b[0;34m\u001b[0m\u001b[0m\n\u001b[1;32m     19\u001b[0m \u001b[0;32mfrom\u001b[0m \u001b[0mmodel\u001b[0m\u001b[0;34m.\u001b[0m\u001b[0mloss\u001b[0m \u001b[0;32mimport\u001b[0m \u001b[0mFocalLoss\u001b[0m\u001b[0;34m,\u001b[0m \u001b[0mCrossEntropy2d\u001b[0m\u001b[0;34m\u001b[0m\u001b[0;34m\u001b[0m\u001b[0m\n\u001b[0;32m---> 20\u001b[0;31m \u001b[0;32mfrom\u001b[0m \u001b[0mmodel\u001b[0m\u001b[0;34m.\u001b[0m\u001b[0mquality_model\u001b[0m \u001b[0;32mimport\u001b[0m \u001b[0mimportMobileNetV2_Lite\u001b[0m\u001b[0;34m\u001b[0m\u001b[0;34m\u001b[0m\u001b[0m\n\u001b[0m",
      "\u001b[0;31mImportError\u001b[0m: cannot import name 'importMobileNetV2_Lite' from 'model.quality_model' (/home/dl/wangleyuan/Rwork/cnnQuality/model/quality_model.py)"
     ]
    }
   ],
   "source": [
    "import time\n",
    "\n",
    "import numpy as np\n",
    "import pickle\n",
    "import scipy.io as scio\n",
    "import torch\n",
    "from scipy import stats\n",
    "from torch import nn\n",
    "from torch.utils.data import DataLoader\n",
    "from tqdm import tqdm\n",
    "from thop import clever_format\n",
    "from thop import profile\n",
    "from sklearn import metrics\n",
    "from sklearn.preprocessing import normalize\n",
    "import matplotlib.pyplot as plt\n",
    "import matplotlib.mlab as mlab \n",
    "\n",
    "from dataset import monoSimDataset\n",
    "from model.loss import FocalLoss, CrossEntropy2d\n",
    "from model.quality_model import importMobileNetV2_Lite"
   ]
  },
  {
   "cell_type": "code",
   "execution_count": 2,
   "metadata": {},
   "outputs": [],
   "source": [
    "dataset_path = 'data/SD-Eyes'\n",
    "cp_path = \"checkpoints/1203_202301_MobileNetV2_Lite/421_1.3395e-03.pth\"\n",
    "seed = 2248\n",
    "device = 'cuda:1'"
   ]
  },
  {
   "cell_type": "code",
   "execution_count": 3,
   "metadata": {},
   "outputs": [],
   "source": [
    "if torch.cuda.is_available() and device is not None:\n",
    "    device = torch.device(device)\n",
    "else:\n",
    "    if not torch.cuda.is_available():\n",
    "        print(\"hey man, buy a GPU!\")\n",
    "    device = torch.device(\"cpu\")"
   ]
  },
  {
   "cell_type": "code",
   "execution_count": 4,
   "metadata": {},
   "outputs": [
    {
     "name": "stdout",
     "output_type": "stream",
     "text": [
      "2520\n"
     ]
    }
   ],
   "source": [
    "test_data = monoSimDataset(path=dataset_path, mode='test', seed=seed, debug_data=False)\n",
    "test_data_loader = DataLoader(test_data, 1, shuffle=False, drop_last=False)\n",
    "\n",
    "print(len(test_data))"
   ]
  },
  {
   "cell_type": "code",
   "execution_count": 5,
   "metadata": {},
   "outputs": [
    {
     "name": "stdout",
     "output_type": "stream",
     "text": [
      "info=v2 multi_linear sim 0~1 adam l1loss\n",
      "dataset_path=/home/dl/wangleyuan/dataset/SD-Eyes\n",
      "cp_path=\n",
      "cp_num=5\n",
      "visible=True\n",
      "model=MobileNetV2_Lite\n",
      "seed=2248\n",
      "debug=False\n",
      "mask_learn_rate=0.003125\n",
      "mask_lr_decay=0.5\n",
      "upout=True\n",
      "batch_size=24\n",
      "device=cuda:2\n",
      "num_workers=2\n",
      "max_epochs=500\n",
      "lr=0.0004\n",
      "momentum=0.9\n",
      "weight_decay=0.0005\n",
      "name=1203_202301_MobileNetV2_Lite\n",
      "\n"
     ]
    }
   ],
   "source": [
    "model = MobileNetV2_Lite()\n",
    "assert model is not None\n",
    "model.to(device)\n",
    "assert cp_path is not ''\n",
    "cp_data = torch.load(cp_path, map_location=device)\n",
    "try:\n",
    "    model.load_state_dict(cp_data['model'])\n",
    "except Exception as e:\n",
    "    model.load_state_dict(cp_data['model'], strict=False)\n",
    "    print(e)\n",
    "\n",
    "cp_data['cfg'] = '' if 'cfg' not in cp_data else cp_data['cfg']\n",
    "print(cp_data['cfg'])"
   ]
  },
  {
   "cell_type": "code",
   "execution_count": 6,
   "metadata": {},
   "outputs": [
    {
     "name": "stderr",
     "output_type": "stream",
     "text": [
      "Test_batch: 2520/2520 -100%\n"
     ]
    }
   ],
   "source": [
    "test_pred_loss = 0\n",
    "scores = np.zeros((1))\n",
    "prediction = np.zeros((1))\n",
    "names = []\n",
    "heatmaps = []\n",
    "time_spend = 0\n",
    "\n",
    "model.train(False)\n",
    "with torch.no_grad():\n",
    "    for img, mask, target, name in tqdm(test_data_loader, desc='Test_batch', bar_format='{desc}: {n_fmt}/{total_fmt} -{percentage:3.0f}%'):\n",
    "        img = img.to(device)\n",
    "        mask = mask.to(device)\n",
    "        target = target.to(device)\n",
    "        \n",
    "        start = time.time()\n",
    "        pred, heatmap = model(img)\n",
    "        time_spend += time.time()- start\n",
    "        \n",
    "        test_pred_loss += nn.functional.mse_loss(pred, target, reduction='sum')\n",
    "\n",
    "        heatmap = torch.softmax(heatmap, 1)[0, 1, :, :]\n",
    "        heatmap = heatmap.cpu().numpy()\n",
    "\n",
    "        names.append(name[0])\n",
    "        heatmaps.append(heatmap)\n",
    "        scores = np.append(scores, target.cpu().numpy().reshape((-1)))\n",
    "        prediction = np.append(prediction, pred.cpu().numpy().reshape((-1)))\n",
    "     \n",
    "scores = scores[1:]\n",
    "prediction = prediction[1:]"
   ]
  },
  {
   "cell_type": "code",
   "execution_count": 137,
   "metadata": {},
   "outputs": [
    {
     "name": "stdout",
     "output_type": "stream",
     "text": [
      "Test - Time: 0.0002\n",
      "Test - MSE: 2.20e-06\n",
      "Test - LCC: 0.78\n",
      "Test - SROCC: 0.78\n"
     ]
    }
   ],
   "source": [
    "test_pred_loss = test_pred_loss / len(test_data)\n",
    "time_spend /= len(test_data_loader)\n",
    "# prediction = np.nan_to_num(prediction)\n",
    "srocc = stats.spearmanr(prediction, scores)[0]\n",
    "lcc = stats.pearsonr(prediction, scores)[0]\n",
    "\n",
    "print(\"Test - Time: {:.4f}\".format(time_spend))\n",
    "print(\"Test - MSE: {:.2e}\".format(test_pred_loss))\n",
    "print(\"Test - LCC: {:.2f}\".format(lcc))\n",
    "print(\"Test - SROCC: {:.2f}\".format(srocc))"
   ]
  },
  {
   "cell_type": "code",
   "execution_count": 8,
   "metadata": {},
   "outputs": [
    {
     "name": "stdout",
     "output_type": "stream",
     "text": [
      "1.0000001192092896 0.44533470273017883\n",
      "1.032716989517212 0.6331164836883545\n",
      "[0.84592479 0.84392464 0.84694552 ... 0.78467476 0.78851008 0.80318081]\n",
      "[0.89021659 0.902807   0.95217586 ... 0.75738734 0.72824162 0.78027123]\n"
     ]
    }
   ],
   "source": [
    "print(scores.max(), scores.min())\n",
    "print(prediction.max(), prediction.min())\n",
    "print(scores)\n",
    "print(prediction)"
   ]
  },
  {
   "cell_type": "code",
   "execution_count": 32,
   "metadata": {},
   "outputs": [
    {
     "name": "stdout",
     "output_type": "stream",
     "text": [
      "Test - GPU Time: 0.0079\n",
      "Test - CPU Time: 0.4670\n"
     ]
    }
   ],
   "source": [
    "device = torch.device('cuda:1')\n",
    "time_spend = 0\n",
    "\n",
    "model.train(False)\n",
    "model.to(device)\n",
    "with torch.no_grad():\n",
    "    for img, mask, target, name in test_data_loader:\n",
    "        img = img.to(device)\n",
    "        mask = mask.to(device)\n",
    "        target = target.to(device)\n",
    "        \n",
    "        start = time.time()\n",
    "        pred, heatmap = model(img)\n",
    "        time_spend += time.time()- start\n",
    "        \n",
    "time_spend /= len(test_data_loader)\n",
    "print(\"Test - GPU Time: {:.4f}\".format(time_spend))\n",
    "\n",
    "device = torch.device('cpu')\n",
    "time_spend = 0\n",
    "\n",
    "model.train(False)\n",
    "model.to(device)\n",
    "with torch.no_grad():\n",
    "    for img, mask, target, name in test_data_loader:\n",
    "        img = img.to(device)\n",
    "        mask = mask.to(device)\n",
    "        target = target.to(device)\n",
    "        \n",
    "        start = time.time()\n",
    "        pred, heatmap = model(img)\n",
    "        time_spend += time.time()- start\n",
    "        \n",
    "time_spend /= len(test_data_loader)\n",
    "print(\"Test - CPU Time: {:.4f}\".format(time_spend))"
   ]
  },
  {
   "cell_type": "code",
   "execution_count": 35,
   "metadata": {},
   "outputs": [
    {
     "name": "stdout",
     "output_type": "stream",
     "text": [
      "Register FLOP counter for module Conv2d(3, 32, kernel_size=(3, 3), stride=(2, 2), padding=(1, 1), bias=False)\n",
      "Register FLOP counter for module BatchNorm2d(32, eps=1e-05, momentum=0.1, affine=True, track_running_stats=True)\n",
      "Register FLOP counter for module ReLU6(inplace=True)\n",
      "Register FLOP counter for module Conv2d(32, 32, kernel_size=(3, 3), stride=(1, 1), padding=(1, 1), groups=32, bias=False)\n",
      "Register FLOP counter for module BatchNorm2d(32, eps=1e-05, momentum=0.1, affine=True, track_running_stats=True)\n",
      "Register FLOP counter for module ReLU6(inplace=True)\n",
      "Register FLOP counter for module Conv2d(32, 16, kernel_size=(1, 1), stride=(1, 1), bias=False)\n",
      "Register FLOP counter for module BatchNorm2d(16, eps=1e-05, momentum=0.1, affine=True, track_running_stats=True)\n",
      "Register FLOP counter for module Conv2d(16, 96, kernel_size=(1, 1), stride=(1, 1), bias=False)\n",
      "Register FLOP counter for module BatchNorm2d(96, eps=1e-05, momentum=0.1, affine=True, track_running_stats=True)\n",
      "Register FLOP counter for module ReLU6(inplace=True)\n",
      "Register FLOP counter for module Conv2d(96, 96, kernel_size=(3, 3), stride=(2, 2), padding=(1, 1), groups=96, bias=False)\n",
      "Register FLOP counter for module BatchNorm2d(96, eps=1e-05, momentum=0.1, affine=True, track_running_stats=True)\n",
      "Register FLOP counter for module ReLU6(inplace=True)\n",
      "Register FLOP counter for module Conv2d(96, 24, kernel_size=(1, 1), stride=(1, 1), bias=False)\n",
      "Register FLOP counter for module BatchNorm2d(24, eps=1e-05, momentum=0.1, affine=True, track_running_stats=True)\n",
      "Register FLOP counter for module Conv2d(24, 144, kernel_size=(1, 1), stride=(1, 1), bias=False)\n",
      "Register FLOP counter for module BatchNorm2d(144, eps=1e-05, momentum=0.1, affine=True, track_running_stats=True)\n",
      "Register FLOP counter for module ReLU6(inplace=True)\n",
      "Register FLOP counter for module Conv2d(144, 144, kernel_size=(3, 3), stride=(1, 1), padding=(1, 1), groups=144, bias=False)\n",
      "Register FLOP counter for module BatchNorm2d(144, eps=1e-05, momentum=0.1, affine=True, track_running_stats=True)\n",
      "Register FLOP counter for module ReLU6(inplace=True)\n",
      "Register FLOP counter for module Conv2d(144, 24, kernel_size=(1, 1), stride=(1, 1), bias=False)\n",
      "Register FLOP counter for module BatchNorm2d(24, eps=1e-05, momentum=0.1, affine=True, track_running_stats=True)\n",
      "Register FLOP counter for module Conv2d(24, 144, kernel_size=(1, 1), stride=(1, 1), bias=False)\n",
      "Register FLOP counter for module BatchNorm2d(144, eps=1e-05, momentum=0.1, affine=True, track_running_stats=True)\n",
      "Register FLOP counter for module ReLU6(inplace=True)\n",
      "Register FLOP counter for module Conv2d(144, 144, kernel_size=(3, 3), stride=(2, 2), padding=(1, 1), groups=144, bias=False)\n",
      "Register FLOP counter for module BatchNorm2d(144, eps=1e-05, momentum=0.1, affine=True, track_running_stats=True)\n",
      "Register FLOP counter for module ReLU6(inplace=True)\n",
      "Register FLOP counter for module Conv2d(144, 32, kernel_size=(1, 1), stride=(1, 1), bias=False)\n",
      "Register FLOP counter for module BatchNorm2d(32, eps=1e-05, momentum=0.1, affine=True, track_running_stats=True)\n",
      "Register FLOP counter for module Conv2d(32, 192, kernel_size=(1, 1), stride=(1, 1), bias=False)\n",
      "Register FLOP counter for module BatchNorm2d(192, eps=1e-05, momentum=0.1, affine=True, track_running_stats=True)\n",
      "Register FLOP counter for module ReLU6(inplace=True)\n",
      "Register FLOP counter for module Conv2d(192, 192, kernel_size=(3, 3), stride=(1, 1), padding=(1, 1), groups=192, bias=False)\n",
      "Register FLOP counter for module BatchNorm2d(192, eps=1e-05, momentum=0.1, affine=True, track_running_stats=True)\n",
      "Register FLOP counter for module ReLU6(inplace=True)\n",
      "Register FLOP counter for module Conv2d(192, 32, kernel_size=(1, 1), stride=(1, 1), bias=False)\n",
      "Register FLOP counter for module BatchNorm2d(32, eps=1e-05, momentum=0.1, affine=True, track_running_stats=True)\n",
      "Register FLOP counter for module Conv2d(32, 192, kernel_size=(1, 1), stride=(1, 1), bias=False)\n",
      "Register FLOP counter for module BatchNorm2d(192, eps=1e-05, momentum=0.1, affine=True, track_running_stats=True)\n",
      "Register FLOP counter for module ReLU6(inplace=True)\n",
      "Register FLOP counter for module Conv2d(192, 192, kernel_size=(3, 3), stride=(1, 1), padding=(1, 1), groups=192, bias=False)\n",
      "Register FLOP counter for module BatchNorm2d(192, eps=1e-05, momentum=0.1, affine=True, track_running_stats=True)\n",
      "Register FLOP counter for module ReLU6(inplace=True)\n",
      "Register FLOP counter for module Conv2d(192, 32, kernel_size=(1, 1), stride=(1, 1), bias=False)\n",
      "Register FLOP counter for module BatchNorm2d(32, eps=1e-05, momentum=0.1, affine=True, track_running_stats=True)\n",
      "Register FLOP counter for module Conv2d(32, 192, kernel_size=(1, 1), stride=(1, 1), bias=False)\n",
      "Register FLOP counter for module BatchNorm2d(192, eps=1e-05, momentum=0.1, affine=True, track_running_stats=True)\n",
      "Register FLOP counter for module ReLU6(inplace=True)\n",
      "Register FLOP counter for module Conv2d(192, 192, kernel_size=(3, 3), stride=(2, 2), padding=(1, 1), groups=192, bias=False)\n",
      "Register FLOP counter for module BatchNorm2d(192, eps=1e-05, momentum=0.1, affine=True, track_running_stats=True)\n",
      "Register FLOP counter for module ReLU6(inplace=True)\n",
      "Register FLOP counter for module Conv2d(192, 64, kernel_size=(1, 1), stride=(1, 1), bias=False)\n",
      "Register FLOP counter for module BatchNorm2d(64, eps=1e-05, momentum=0.1, affine=True, track_running_stats=True)\n",
      "Register FLOP counter for module Conv2d(64, 384, kernel_size=(1, 1), stride=(1, 1), bias=False)\n",
      "Register FLOP counter for module BatchNorm2d(384, eps=1e-05, momentum=0.1, affine=True, track_running_stats=True)\n",
      "Register FLOP counter for module ReLU6(inplace=True)\n",
      "Register FLOP counter for module Conv2d(384, 384, kernel_size=(3, 3), stride=(1, 1), padding=(1, 1), groups=384, bias=False)\n",
      "Register FLOP counter for module BatchNorm2d(384, eps=1e-05, momentum=0.1, affine=True, track_running_stats=True)\n",
      "Register FLOP counter for module ReLU6(inplace=True)\n",
      "Register FLOP counter for module Conv2d(384, 64, kernel_size=(1, 1), stride=(1, 1), bias=False)\n",
      "Register FLOP counter for module BatchNorm2d(64, eps=1e-05, momentum=0.1, affine=True, track_running_stats=True)\n",
      "Register FLOP counter for module Conv2d(64, 384, kernel_size=(1, 1), stride=(1, 1), bias=False)\n",
      "Register FLOP counter for module BatchNorm2d(384, eps=1e-05, momentum=0.1, affine=True, track_running_stats=True)\n",
      "Register FLOP counter for module ReLU6(inplace=True)\n",
      "Register FLOP counter for module Conv2d(384, 384, kernel_size=(3, 3), stride=(1, 1), padding=(1, 1), groups=384, bias=False)\n",
      "Register FLOP counter for module BatchNorm2d(384, eps=1e-05, momentum=0.1, affine=True, track_running_stats=True)\n",
      "Register FLOP counter for module ReLU6(inplace=True)\n",
      "Register FLOP counter for module Conv2d(384, 64, kernel_size=(1, 1), stride=(1, 1), bias=False)\n",
      "Register FLOP counter for module BatchNorm2d(64, eps=1e-05, momentum=0.1, affine=True, track_running_stats=True)\n",
      "Register FLOP counter for module Conv2d(64, 384, kernel_size=(1, 1), stride=(1, 1), bias=False)\n",
      "Register FLOP counter for module BatchNorm2d(384, eps=1e-05, momentum=0.1, affine=True, track_running_stats=True)\n",
      "Register FLOP counter for module ReLU6(inplace=True)\n",
      "Register FLOP counter for module Conv2d(384, 384, kernel_size=(3, 3), stride=(1, 1), padding=(1, 1), groups=384, bias=False)\n",
      "Register FLOP counter for module BatchNorm2d(384, eps=1e-05, momentum=0.1, affine=True, track_running_stats=True)\n",
      "Register FLOP counter for module ReLU6(inplace=True)\n",
      "Register FLOP counter for module Conv2d(384, 64, kernel_size=(1, 1), stride=(1, 1), bias=False)\n",
      "Register FLOP counter for module BatchNorm2d(64, eps=1e-05, momentum=0.1, affine=True, track_running_stats=True)\n",
      "Register FLOP counter for module Conv2d(64, 384, kernel_size=(1, 1), stride=(1, 1), bias=False)\n",
      "Register FLOP counter for module BatchNorm2d(384, eps=1e-05, momentum=0.1, affine=True, track_running_stats=True)\n",
      "Register FLOP counter for module ReLU6(inplace=True)\n",
      "Register FLOP counter for module Conv2d(384, 384, kernel_size=(3, 3), stride=(1, 1), padding=(1, 1), groups=384, bias=False)\n",
      "Register FLOP counter for module BatchNorm2d(384, eps=1e-05, momentum=0.1, affine=True, track_running_stats=True)\n",
      "Register FLOP counter for module ReLU6(inplace=True)\n",
      "Register FLOP counter for module Conv2d(384, 96, kernel_size=(1, 1), stride=(1, 1), bias=False)\n",
      "Register FLOP counter for module BatchNorm2d(96, eps=1e-05, momentum=0.1, affine=True, track_running_stats=True)\n",
      "Register FLOP counter for module Conv2d(96, 576, kernel_size=(1, 1), stride=(1, 1), bias=False)\n",
      "Register FLOP counter for module BatchNorm2d(576, eps=1e-05, momentum=0.1, affine=True, track_running_stats=True)\n",
      "Register FLOP counter for module ReLU6(inplace=True)\n",
      "Register FLOP counter for module Conv2d(576, 576, kernel_size=(3, 3), stride=(1, 1), padding=(1, 1), groups=576, bias=False)\n",
      "Register FLOP counter for module BatchNorm2d(576, eps=1e-05, momentum=0.1, affine=True, track_running_stats=True)\n",
      "Register FLOP counter for module ReLU6(inplace=True)\n",
      "Register FLOP counter for module Conv2d(576, 96, kernel_size=(1, 1), stride=(1, 1), bias=False)\n",
      "Register FLOP counter for module BatchNorm2d(96, eps=1e-05, momentum=0.1, affine=True, track_running_stats=True)\n",
      "Register FLOP counter for module Conv2d(96, 576, kernel_size=(1, 1), stride=(1, 1), bias=False)\n",
      "Register FLOP counter for module BatchNorm2d(576, eps=1e-05, momentum=0.1, affine=True, track_running_stats=True)\n",
      "Register FLOP counter for module ReLU6(inplace=True)\n",
      "Register FLOP counter for module Conv2d(576, 576, kernel_size=(3, 3), stride=(1, 1), padding=(1, 1), groups=576, bias=False)\n",
      "Register FLOP counter for module BatchNorm2d(576, eps=1e-05, momentum=0.1, affine=True, track_running_stats=True)\n",
      "Register FLOP counter for module ReLU6(inplace=True)\n",
      "Register FLOP counter for module Conv2d(576, 96, kernel_size=(1, 1), stride=(1, 1), bias=False)\n",
      "Register FLOP counter for module BatchNorm2d(96, eps=1e-05, momentum=0.1, affine=True, track_running_stats=True)\n",
      "Register FLOP counter for module Conv2d(96, 576, kernel_size=(1, 1), stride=(1, 1), bias=False)\n",
      "Register FLOP counter for module BatchNorm2d(576, eps=1e-05, momentum=0.1, affine=True, track_running_stats=True)\n",
      "Register FLOP counter for module ReLU6(inplace=True)\n",
      "Register FLOP counter for module Conv2d(576, 576, kernel_size=(3, 3), stride=(2, 2), padding=(1, 1), groups=576, bias=False)\n",
      "Register FLOP counter for module BatchNorm2d(576, eps=1e-05, momentum=0.1, affine=True, track_running_stats=True)\n",
      "Register FLOP counter for module ReLU6(inplace=True)\n",
      "Register FLOP counter for module Conv2d(576, 160, kernel_size=(1, 1), stride=(1, 1), bias=False)\n",
      "Register FLOP counter for module BatchNorm2d(160, eps=1e-05, momentum=0.1, affine=True, track_running_stats=True)\n",
      "Register FLOP counter for module Conv2d(160, 960, kernel_size=(1, 1), stride=(1, 1), bias=False)\n",
      "Register FLOP counter for module BatchNorm2d(960, eps=1e-05, momentum=0.1, affine=True, track_running_stats=True)\n",
      "Register FLOP counter for module ReLU6(inplace=True)\n",
      "Register FLOP counter for module Conv2d(960, 960, kernel_size=(3, 3), stride=(1, 1), padding=(1, 1), groups=960, bias=False)\n",
      "Register FLOP counter for module BatchNorm2d(960, eps=1e-05, momentum=0.1, affine=True, track_running_stats=True)\n",
      "Register FLOP counter for module ReLU6(inplace=True)\n",
      "Register FLOP counter for module Conv2d(960, 160, kernel_size=(1, 1), stride=(1, 1), bias=False)\n",
      "Register FLOP counter for module BatchNorm2d(160, eps=1e-05, momentum=0.1, affine=True, track_running_stats=True)\n",
      "Register FLOP counter for module Conv2d(160, 960, kernel_size=(1, 1), stride=(1, 1), bias=False)\n",
      "Register FLOP counter for module BatchNorm2d(960, eps=1e-05, momentum=0.1, affine=True, track_running_stats=True)\n",
      "Register FLOP counter for module ReLU6(inplace=True)\n",
      "Register FLOP counter for module Conv2d(960, 960, kernel_size=(3, 3), stride=(1, 1), padding=(1, 1), groups=960, bias=False)\n",
      "Register FLOP counter for module BatchNorm2d(960, eps=1e-05, momentum=0.1, affine=True, track_running_stats=True)\n",
      "Register FLOP counter for module ReLU6(inplace=True)\n",
      "Register FLOP counter for module Conv2d(960, 160, kernel_size=(1, 1), stride=(1, 1), bias=False)\n",
      "Register FLOP counter for module BatchNorm2d(160, eps=1e-05, momentum=0.1, affine=True, track_running_stats=True)\n",
      "Register FLOP counter for module Conv2d(160, 960, kernel_size=(1, 1), stride=(1, 1), bias=False)\n",
      "Register FLOP counter for module BatchNorm2d(960, eps=1e-05, momentum=0.1, affine=True, track_running_stats=True)\n",
      "Register FLOP counter for module ReLU6(inplace=True)\n",
      "Register FLOP counter for module Conv2d(960, 960, kernel_size=(3, 3), stride=(1, 1), padding=(1, 1), groups=960, bias=False)\n",
      "Register FLOP counter for module BatchNorm2d(960, eps=1e-05, momentum=0.1, affine=True, track_running_stats=True)\n",
      "Register FLOP counter for module ReLU6(inplace=True)\n",
      "Register FLOP counter for module Conv2d(960, 320, kernel_size=(1, 1), stride=(1, 1), bias=False)\n",
      "Register FLOP counter for module BatchNorm2d(320, eps=1e-05, momentum=0.1, affine=True, track_running_stats=True)\n",
      "Register FLOP counter for module Conv2d(320, 1280, kernel_size=(1, 1), stride=(1, 1), bias=False)\n",
      "Register FLOP counter for module BatchNorm2d(1280, eps=1e-05, momentum=0.1, affine=True, track_running_stats=True)\n",
      "Register FLOP counter for module ReLU6(inplace=True)\n",
      "Register FLOP counter for module Conv2d(1280, 128, kernel_size=(1, 1), stride=(1, 1), bias=False)\n",
      "Register FLOP counter for module BatchNorm2d(128, eps=1e-05, momentum=0.1, affine=True, track_running_stats=True)\n",
      "Register FLOP counter for module ReLU(inplace=True)\n",
      "Register FLOP counter for module AdaptiveAvgPool2d(output_size=(1, 1))\n",
      "Register FLOP counter for module Conv2d(1280, 128, kernel_size=(1, 1), stride=(1, 1), bias=False)\n",
      "THOP has not implemented counting method for  Sigmoid()\n",
      "Register FLOP counter for module Conv2d(128, 2, kernel_size=(1, 1), stride=(1, 1))\n",
      "Register FLOP counter for module Conv2d(32, 2, kernel_size=(1, 1), stride=(1, 1))\n",
      "Register FLOP counter for module Linear(in_features=1280, out_features=512, bias=True)\n",
      "Register FLOP counter for module Dropout(p=0.5, inplace=False)\n",
      "Register FLOP counter for module ReLU()\n",
      "Register FLOP counter for module Linear(in_features=512, out_features=64, bias=True)\n",
      "Register FLOP counter for module Dropout(p=0.5, inplace=False)\n",
      "Register FLOP counter for module ReLU()\n",
      "Register FLOP counter for module Linear(in_features=64, out_features=1, bias=True)\n"
     ]
    },
    {
     "name": "stdout",
     "output_type": "stream",
     "text": [
      "2.049G 3.241M\n"
     ]
    }
   ],
   "source": [
    "flops, params = profile(model, inputs=(img, ))\n",
    "flops, params = clever_format([flops, params], \"%.3f\")\n",
    "print(flops, params)"
   ]
  },
  {
   "cell_type": "markdown",
   "metadata": {},
   "source": []
  },
  {
   "cell_type": "code",
   "execution_count": 9,
   "metadata": {},
   "outputs": [],
   "source": [
    "def cal_DET(sim, labels):\n",
    "    label_num = len(labels)\n",
    "    sim = sim[~np.eye(label_num, dtype=np.bool)]\n",
    "    if labels.max() == 1 and labels.min() == 0 and labels.shape[0] != labels.shape[1]:\n",
    "        label = np.dot(labels, labels.T)\n",
    "    else:\n",
    "        label = np.zeros((label_num, label_num))\n",
    "        for x in range(label_num):\n",
    "            for y in range(label_num):\n",
    "                label[x, y] = labels[x] == labels[y]\n",
    "    label = label[~np.eye(label_num, dtype=np.bool)].astype(np.bool)\n",
    "\n",
    "    fpr, tpr, thresholds = metrics.roc_curve(label, sim)\n",
    "    fnr = 1 - tpr\n",
    "\n",
    "    eer = fpr[np.argmin(np.abs(fpr - fnr))]\n",
    "    roc_auc = metrics.auc(fpr, tpr)\n",
    "    return eer, fnr, tpr, roc_auc, thresholds"
   ]
  },
  {
   "cell_type": "code",
   "execution_count": 10,
   "metadata": {},
   "outputs": [],
   "source": [
    "sim = scio.loadmat(os.path.join(dataset_path, 'sim.mat'))['sim']\n",
    "with open(os.path.join(dataset_path, 'gallery.txt'), 'r') as f:\n",
    "    gallery_dict = {x.strip().split(' ')[1]: x.strip().split(' ')[0] for x in f.readlines()}\n",
    "with open(os.path.join(dataset_path, 'test.txt'), 'r') as f:\n",
    "    img_list = [tuple(line.strip().split(' ')) for line in f.readlines()]\n",
    "img_dict ={x[0]:(x[1],x[2]) for x in img_list}"
   ]
  },
  {
   "cell_type": "code",
   "execution_count": 11,
   "metadata": {},
   "outputs": [],
   "source": [
    "test_names = {x[0]:idx for idx, x in enumerate(img_list)}\n",
    "test_sim = np.zeros((len(img_list), len(img_list)))\n",
    "for tx , d in enumerate(img_list):\n",
    "    sx = int(d[2])\n",
    "    for ty, d in enumerate(img_list):\n",
    "        sy = int(d[2])\n",
    "        test_sim[tx, ty] = sim[sx,sy]\n"
   ]
  },
  {
   "cell_type": "code",
   "execution_count": 12,
   "metadata": {},
   "outputs": [
    {
     "name": "stdout",
     "output_type": "stream",
     "text": [
      "0.12408242921642987\n"
     ]
    }
   ],
   "source": [
    "labels = np.array([int(x[1]) for x in img_list])\n",
    "eer, fnr, tpr, roc_auc, thresholds = cal_DET(test_sim, labels)\n",
    "print(eer)"
   ]
  },
  {
   "cell_type": "code",
   "execution_count": 13,
   "metadata": {},
   "outputs": [
    {
     "name": "stderr",
     "output_type": "stream",
     "text": [
      "eer-irr: 96/100 - 96%/home/dl/wangleyuan/anaconda3/lib/python3.7/site-packages/sklearn/metrics/ranking.py:659: UndefinedMetricWarning: No positive samples in y_true, true positive value should be meaningless\n",
      "  UndefinedMetricWarning)\n",
      "eer-irr: 100/100 -100%\n"
     ]
    }
   ],
   "source": [
    "t_eer_list = []\n",
    "t_irr_list = []\n",
    "t_auc_list = []\n",
    "thr_list = np.arange(0.4,1,0.6/100)\n",
    "for thr in tqdm(thr_list, desc='eer-irr', bar_format='{desc}: {n_fmt}/{total_fmt} -{percentage:3.0f}%'):\n",
    "    try:\n",
    "        cur_names = []\n",
    "        for i,s in enumerate(scores):\n",
    "            if s > thr:\n",
    "                cur_names.append(names[i])\n",
    "        cur_labels = np.array([int(img_dict[x][0]) for x in cur_names])\n",
    "        cur_sim = np.zeros((len(cur_names), len(cur_names)))\n",
    "        for tx , d in enumerate(cur_names):\n",
    "            sx = int(img_dict[d][1])\n",
    "            for ty, d in enumerate(cur_names):\n",
    "                sy = int(img_dict[d][1])\n",
    "                cur_sim[tx, ty] = sim[sx,sy]\n",
    "        eer, _, _, roc_auc, _ = cal_DET(cur_sim, cur_labels)\n",
    "        irr = 1 - len(cur_names) / len(test_names)\n",
    "        t_eer_list.append(eer)\n",
    "        t_irr_list.append(irr)\n",
    "    except Exception as e:\n",
    "        print(e)"
   ]
  },
  {
   "cell_type": "code",
   "execution_count": 14,
   "metadata": {},
   "outputs": [
    {
     "name": "stderr",
     "output_type": "stream",
     "text": [
      "eer-irr: 101/101 -100%"
     ]
    },
    {
     "name": "stdout",
     "output_type": "stream",
     "text": [
      "Data is not binary and pos_label is not specified\n",
      "zero-size array to reduction operation maximum which has no identity\n",
      "zero-size array to reduction operation maximum which has no identity\n",
      "zero-size array to reduction operation maximum which has no identity\n",
      "zero-size array to reduction operation maximum which has no identity\n",
      "zero-size array to reduction operation maximum which has no identity\n",
      "zero-size array to reduction operation maximum which has no identity\n",
      "zero-size array to reduction operation maximum which has no identity\n",
      "zero-size array to reduction operation maximum which has no identity\n",
      "zero-size array to reduction operation maximum which has no identity\n",
      "zero-size array to reduction operation maximum which has no identity\n",
      "zero-size array to reduction operation maximum which has no identity\n",
      "zero-size array to reduction operation maximum which has no identity\n",
      "zero-size array to reduction operation maximum which has no identity\n",
      "zero-size array to reduction operation maximum which has no identity\n"
     ]
    },
    {
     "name": "stderr",
     "output_type": "stream",
     "text": [
      "\n"
     ]
    }
   ],
   "source": [
    "p_eer_list = []\n",
    "p_irr_list = []\n",
    "p_auc_list = []\n",
    "thr_list = np.arange(0.6,1.1,0.5/100)\n",
    "for thr in tqdm(thr_list, desc='eer-irr', bar_format='{desc}: {n_fmt}/{total_fmt} -{percentage:3.0f}%'):\n",
    "    try:\n",
    "        cur_names = []\n",
    "        for i,s in enumerate(prediction):\n",
    "            if s > thr:\n",
    "                cur_names.append(names[i])\n",
    "        cur_labels = np.array([int(img_dict[x][0]) for x in cur_names])\n",
    "        cur_sim = np.zeros((len(cur_names), len(cur_names)))\n",
    "        for tx , d in enumerate(cur_names):\n",
    "            sx = int(img_dict[d][1])\n",
    "            for ty, d in enumerate(cur_names):\n",
    "                sy = int(img_dict[d][1])\n",
    "                cur_sim[tx, ty] = sim[sx,sy]\n",
    "        eer, _, _, roc_auc, _ = cal_DET(cur_sim, cur_labels)\n",
    "        irr = 1 - len(cur_names) / len(test_names)\n",
    "        p_eer_list.append(eer)\n",
    "        p_irr_list.append(irr)\n",
    "    except Exception as e:\n",
    "        print(e)"
   ]
  },
  {
   "cell_type": "code",
   "execution_count": 217,
   "metadata": {},
   "outputs": [
    {
     "data": {
      "image/png": "[encoded data removed]",
      "text/plain": [
       "<Figure size 432x288 with 1 Axes>"
      ]
     },
     "metadata": {
      "needs_background": "light"
     },
     "output_type": "display_data"
    }
   ],
   "source": [
    "x = np.arange(0,1,0.01)\n",
    "y = np.ones((100,1))\n",
    "y[:75] = 0.1241\n",
    "y[75:] = 0.0128\n",
    "\n",
    "plt.figure()\n",
    "plt.plot(x, y, linestyle='-.',color='gray', label='Dataset')\n",
    "plt.plot(t_irr_list, t_eer_list, linestyle=':', color='r', label='DFS')\n",
    "plt.plot(p_irr_list, p_eer_list, color='b', label='Ours')\n",
    "\n",
    "plt.xlim(-0.005,0.95)\n",
    "plt.ylim(-0.005,0.135)\n",
    "plt.xlabel('IRR', fontsize=15)\n",
    "plt.ylabel('EER', fontsize=15)\n",
    "plt.xticks(np.arange(0,1,0.1), fontsize=15)\n",
    "plt.yticks(fontsize=15)\n",
    "plt.legend(loc=2, bbox_to_anchor=(1.05,1.0),borderaxespad = 0, fontsize=15)\n",
    "plt.savefig('result/eer_irr_SD.png')\n",
    "plt.show()"
   ]
  },
  {
   "cell_type": "markdown",
   "metadata": {},
   "source": [
    "sharpness, iris_size, dilation, gray_level_spread, usable_area"
   ]
  },
  {
   "cell_type": "code",
   "execution_count": 16,
   "metadata": {},
   "outputs": [],
   "source": [
    "with open('test_quality.txt', 'r') as f:\n",
    "    qdata = [x.strip() for x in f.readlines()]\n",
    "qdict = {x.split(',')[0]:[float(y) for y in x.split(',')[1].split(' ')[1:]] for x in qdata}\n",
    "\n",
    "qarray = np.zeros((len(names),5))\n",
    "for idx,n in enumerate(names):\n",
    "    qarray[idx,:] = np.array(qdict[n])"
   ]
  },
  {
   "cell_type": "code",
   "execution_count": 17,
   "metadata": {},
   "outputs": [],
   "source": [
    "fm = qarray[:, 0]\n",
    "size = qarray[:, 1]\n",
    "dilation = qarray[:, 2]\n",
    "gls = qarray[:, 3]\n",
    "uar = qarray[:, 4]"
   ]
  },
  {
   "cell_type": "code",
   "execution_count": 136,
   "metadata": {},
   "outputs": [
    {
     "name": "stdout",
     "output_type": "stream",
     "text": [
      "fm - LCC: 0.10 SROCC: 0.10\n",
      "size - LCC: 0.34 SROCC: 0.34\n",
      "dilation - LCC: -0.01 SROCC: -0.00\n",
      "gls - LCC: -0.20 SROCC: -0.19\n",
      "uar - LCC: 0.00 SROCC: -0.01\n"
     ]
    }
   ],
   "source": [
    "srocc = stats.spearmanr(fm, scores)[0]\n",
    "lcc = stats.pearsonr(fm, scores)[0]\n",
    "print(\"fm - LCC: {:.2f} SROCC: {:.2f}\".format(lcc, srocc))\n",
    "srocc = stats.spearmanr(size, scores)[0]\n",
    "lcc = stats.pearsonr(size, scores)[0]\n",
    "print(\"size - LCC: {:.2f} SROCC: {:.2f}\".format(lcc, srocc))\n",
    "srocc = stats.spearmanr(dilation, scores)[0]\n",
    "lcc = stats.pearsonr(dilation, scores)[0]\n",
    "print(\"dilation - LCC: {:.2f} SROCC: {:.2f}\".format(lcc, srocc))\n",
    "srocc = stats.spearmanr(gls, scores)[0]\n",
    "lcc = stats.pearsonr(gls, scores)[0]\n",
    "print(\"gls - LCC: {:.2f} SROCC: {:.2f}\".format(lcc, srocc))\n",
    "srocc = stats.spearmanr(uar, scores)[0]\n",
    "lcc = stats.pearsonr(uar, scores)[0]\n",
    "print(\"uar - LCC: {:.2f} SROCC: {:.2f}\".format(lcc, srocc))"
   ]
  },
  {
   "cell_type": "code",
   "execution_count": 103,
   "metadata": {},
   "outputs": [
    {
     "data": {
      "text/plain": [
       "Text(0, 0.5, 'count')"
      ]
     },
     "execution_count": 103,
     "metadata": {},
     "output_type": "execute_result"
    },
    {
     "data": {
      "image/png": "[encoded data removed]",
      "text/plain": [
       "<Figure size 432x288 with 1 Axes>"
      ]
     },
     "metadata": {
      "needs_background": "light"
     },
     "output_type": "display_data"
    }
   ],
   "source": [
    "plt.hist(fm,bins=20, edgecolor='k', alpha=0.95)\n",
    "plt.xlabel('Sharpness', fontsize=15)\n",
    "plt.ylabel('count', fontsize=15)"
   ]
  },
  {
   "cell_type": "code",
   "execution_count": 104,
   "metadata": {},
   "outputs": [
    {
     "data": {
      "text/plain": [
       "Text(0, 0.5, 'count')"
      ]
     },
     "execution_count": 104,
     "metadata": {},
     "output_type": "execute_result"
    },
    {
     "data": {
      "image/png": "[encoded data removed]",
      "text/plain": [
       "<Figure size 432x288 with 1 Axes>"
      ]
     },
     "metadata": {
      "needs_background": "light"
     },
     "output_type": "display_data"
    }
   ],
   "source": [
    "plt.hist(size,bins=20, edgecolor='k', alpha=0.95)\n",
    "plt.xlabel('Iris size', fontsize=15)\n",
    "plt.ylabel('count', fontsize=15)"
   ]
  },
  {
   "cell_type": "code",
   "execution_count": 105,
   "metadata": {},
   "outputs": [
    {
     "data": {
      "text/plain": [
       "Text(0, 0.5, 'count')"
      ]
     },
     "execution_count": 105,
     "metadata": {},
     "output_type": "execute_result"
    },
    {
     "data": {
      "image/png": "[encoded data removed]",
      "text/plain": [
       "<Figure size 432x288 with 1 Axes>"
      ]
     },
     "metadata": {
      "needs_background": "light"
     },
     "output_type": "display_data"
    }
   ],
   "source": [
    "plt.hist(dilation,bins=25, edgecolor='k', alpha=0.95)\n",
    "plt.xlabel('Dilation', fontsize=15)\n",
    "plt.ylabel('count', fontsize=15)"
   ]
  },
  {
   "cell_type": "code",
   "execution_count": 106,
   "metadata": {},
   "outputs": [
    {
     "data": {
      "text/plain": [
       "Text(0, 0.5, 'count')"
      ]
     },
     "execution_count": 106,
     "metadata": {},
     "output_type": "execute_result"
    },
    {
     "data": {
      "image/png": "[encoded data removed]",
      "text/plain": [
       "<Figure size 432x288 with 1 Axes>"
      ]
     },
     "metadata": {
      "needs_background": "light"
     },
     "output_type": "display_data"
    }
   ],
   "source": [
    "plt.hist(gls,bins=20, edgecolor='k', alpha=0.95)\n",
    "plt.xlabel('GLS', fontsize=15)\n",
    "plt.ylabel('count', fontsize=15)"
   ]
  },
  {
   "cell_type": "code",
   "execution_count": 108,
   "metadata": {},
   "outputs": [
    {
     "data": {
      "text/plain": [
       "Text(0, 0.5, 'count')"
      ]
     },
     "execution_count": 108,
     "metadata": {},
     "output_type": "execute_result"
    },
    {
     "data": {
      "image/png": "[encoded data removed]",
      "text/plain": [
       "<Figure size 432x288 with 1 Axes>"
      ]
     },
     "metadata": {
      "needs_background": "light"
     },
     "output_type": "display_data"
    }
   ],
   "source": [
    "plt.hist(uar,bins=20, edgecolor='k', alpha=0.95)\n",
    "plt.xlabel('Usable area', fontsize=15)\n",
    "plt.ylabel('count', fontsize=15)"
   ]
  },
  {
   "cell_type": "code",
   "execution_count": 135,
   "metadata": {},
   "outputs": [
    {
     "data": {
      "image/png": "[encoded data removed]",
      "text/plain": [
       "<Figure size 432x288 with 5 Axes>"
      ]
     },
     "metadata": {
      "needs_background": "light"
     },
     "output_type": "display_data"
    }
   ],
   "source": [
    "plt.subplot(231)\n",
    "plt.hist(fm,bins=20, edgecolor='k')\n",
    "plt.xlabel('Sharpness', fontsize=15)\n",
    "plt.ylabel('count', fontsize=15)\n",
    "plt.xticks(fontsize=15)\n",
    "plt.yticks([])\n",
    "plt.subplot(232)\n",
    "plt.hist(size, bins=20, edgecolor='k')\n",
    "# plt.ylabel('count')\n",
    "plt.xticks(fontsize=15)\n",
    "plt.yticks([])\n",
    "plt.xlabel('Iris size', fontsize=15)\n",
    "plt.subplot(233)\n",
    "plt.hist(dilation, bins=20, edgecolor='k')\n",
    "# plt.ylabel('count')\n",
    "plt.xticks(fontsize=15)\n",
    "plt.yticks([])\n",
    "plt.xlabel('Dilation', fontsize=15)\n",
    "plt.subplot(234)\n",
    "plt.hist(gls, bins=20, edgecolor='k')\n",
    "plt.ylabel('count', fontsize=15)\n",
    "plt.xlabel('GLS', fontsize=15)\n",
    "plt.xticks(fontsize=15)\n",
    "plt.yticks([])\n",
    "plt.subplot(235)\n",
    "plt.hist(uar, bins=20, edgecolor='k')\n",
    "# plt.ylabel('count')\n",
    "plt.xlabel('Usable area', fontsize=15)\n",
    "plt.xticks(fontsize=15)\n",
    "plt.yticks([])\n",
    "\n",
    "plt.savefig('result/hd_SD.png')\n",
    "plt.show()"
   ]
  },
  {
   "cell_type": "code",
   "execution_count": 168,
   "metadata": {},
   "outputs": [],
   "source": [
    "fm = (fm - fm.min())/(fm.max()-fm.min())\n",
    "size = (size - size.min())/(size.max()-size.min())\n",
    "dilation = (dilation - dilation.min())/(dilation.max()-dilation.min())\n",
    "gls = (gls - gls.min())/(gls.max()-gls.min())\n",
    "uar = (uar - uar.min())/(uar.max()-uar.min())"
   ]
  },
  {
   "cell_type": "code",
   "execution_count": 169,
   "metadata": {},
   "outputs": [
    {
     "name": "stderr",
     "output_type": "stream",
     "text": [
      "\n",
      "\n",
      "eer-irr: 0/50 -  0%\u001b[A\u001b[A\n",
      "\n",
      "eer-irr: 5/50 - 10%\u001b[A\u001b[A"
     ]
    },
    {
     "name": "stdout",
     "output_type": "stream",
     "text": [
      "zero-size array to reduction operation maximum which has no identity\n"
     ]
    },
    {
     "name": "stderr",
     "output_type": "stream",
     "text": [
      "\n",
      "\n",
      "eer-irr: 7/50 - 14%\u001b[A\u001b[A\n",
      "\n",
      "eer-irr: 9/50 - 18%\u001b[A\u001b[A\n",
      "\n",
      "eer-irr: 10/50 - 20%\u001b[A\u001b[A\n",
      "\n",
      "eer-irr: 11/50 - 22%\u001b[A\u001b[A\n",
      "\n",
      "eer-irr: 12/50 - 24%\u001b[A\u001b[A\n",
      "\n",
      "eer-irr: 13/50 - 26%\u001b[A\u001b[A\n",
      "\n",
      "eer-irr: 14/50 - 28%\u001b[A\u001b[A\n",
      "\n",
      "eer-irr: 15/50 - 30%\u001b[A\u001b[A\n",
      "\n",
      "eer-irr: 16/50 - 32%\u001b[A\u001b[A\n",
      "\n",
      "eer-irr: 17/50 - 34%\u001b[A\u001b[A\n",
      "\n",
      "eer-irr: 18/50 - 36%\u001b[A\u001b[A\n",
      "\n",
      "eer-irr: 19/50 - 38%\u001b[A\u001b[A\n",
      "\n",
      "eer-irr: 20/50 - 40%\u001b[A\u001b[A\n",
      "\n",
      "eer-irr: 21/50 - 42%\u001b[A\u001b[A\n",
      "\n",
      "eer-irr: 22/50 - 44%\u001b[A\u001b[A\n",
      "\n",
      "eer-irr: 23/50 - 46%\u001b[A\u001b[A\n",
      "\n",
      "eer-irr: 24/50 - 48%\u001b[A\u001b[A\n",
      "\n",
      "eer-irr: 25/50 - 50%\u001b[A\u001b[A\n",
      "\n",
      "eer-irr: 26/50 - 52%\u001b[A\u001b[A\n",
      "\n",
      "eer-irr: 27/50 - 54%\u001b[A\u001b[A\n",
      "\n",
      "eer-irr: 28/50 - 56%\u001b[A\u001b[A\n",
      "\n",
      "eer-irr: 29/50 - 58%\u001b[A\u001b[A\n",
      "\n",
      "eer-irr: 30/50 - 60%\u001b[A\u001b[A\n",
      "\n",
      "eer-irr: 31/50 - 62%\u001b[A\u001b[A\n",
      "\n",
      "eer-irr: 32/50 - 64%\u001b[A\u001b[A\n",
      "\n",
      "eer-irr: 33/50 - 66%\u001b[A\u001b[A\n",
      "\n",
      "eer-irr: 34/50 - 68%\u001b[A\u001b[A\n",
      "\n",
      "eer-irr: 35/50 - 70%\u001b[A\u001b[A\n",
      "\n",
      "eer-irr: 36/50 - 72%\u001b[A\u001b[A\n",
      "\n",
      "eer-irr: 37/50 - 74%\u001b[A\u001b[A\n",
      "\n",
      "eer-irr: 38/50 - 76%\u001b[A\u001b[A\n",
      "\n",
      "eer-irr: 39/50 - 78%\u001b[A\u001b[A\n",
      "\n",
      "eer-irr: 40/50 - 80%\u001b[A\u001b[A\n",
      "\n",
      "eer-irr: 41/50 - 82%\u001b[A\u001b[A\n",
      "\n",
      "eer-irr: 42/50 - 84%\u001b[A\u001b[A\n",
      "\n",
      "eer-irr: 43/50 - 86%\u001b[A\u001b[A\n",
      "\n",
      "eer-irr: 44/50 - 88%\u001b[A\u001b[A\n",
      "\n",
      "eer-irr: 45/50 - 90%\u001b[A\u001b[A\n",
      "\n",
      "eer-irr: 46/50 - 92%\u001b[A\u001b[A\n",
      "\n",
      "eer-irr: 47/50 - 94%\u001b[A\u001b[A\n",
      "\n",
      "eer-irr: 48/50 - 96%\u001b[A\u001b[A\n",
      "\n",
      "eer-irr: 49/50 - 98%\u001b[A\u001b[A\n",
      "\n",
      "eer-irr: 50/50 -100%\u001b[A\u001b[A\n"
     ]
    }
   ],
   "source": [
    "fm_eer_list = []\n",
    "fm_irr_list = []\n",
    "thr_list = np.arange(0,0.5,1/100)\n",
    "for thr in tqdm(thr_list, desc='eer-irr', bar_format='{desc}: {n_fmt}/{total_fmt} -{percentage:3.0f}%'):\n",
    "    try:\n",
    "        cur_names = []\n",
    "        for i,s in enumerate(fm):\n",
    "            if s > 0.5 - thr and s < 0.5 + thr:\n",
    "                cur_names.append(names[i])\n",
    "        cur_labels = np.array([int(img_dict[x][0]) for x in cur_names])\n",
    "        cur_sim = np.zeros((len(cur_names), len(cur_names)))\n",
    "        for tx , d in enumerate(cur_names):\n",
    "            sx = int(img_dict[d][1])\n",
    "            for ty, d in enumerate(cur_names):\n",
    "                sy = int(img_dict[d][1])\n",
    "                cur_sim[tx, ty] = sim[sx,sy]\n",
    "        eer, _, _, roc_auc, _ = cal_DET(cur_sim, cur_labels)\n",
    "        irr = 1 - len(cur_names) / len(test_names)\n",
    "        fm_eer_list.append(eer)\n",
    "        fm_irr_list.append(irr)\n",
    "    except Exception as e:\n",
    "        print(e)"
   ]
  },
  {
   "cell_type": "code",
   "execution_count": 170,
   "metadata": {},
   "outputs": [
    {
     "name": "stderr",
     "output_type": "stream",
     "text": [
      "\n",
      "\n",
      "eer-irr: 0/50 -  0%\u001b[A\u001b[A\n",
      "\n",
      "eer-irr: 3/50 -  6%\u001b[A\u001b[A"
     ]
    },
    {
     "name": "stdout",
     "output_type": "stream",
     "text": [
      "zero-size array to reduction operation maximum which has no identity\n"
     ]
    },
    {
     "name": "stderr",
     "output_type": "stream",
     "text": [
      "\n",
      "\n",
      "eer-irr: 4/50 -  8%\u001b[A\u001b[A\n",
      "\n",
      "eer-irr: 5/50 - 10%\u001b[A\u001b[A\n",
      "\n",
      "eer-irr: 6/50 - 12%\u001b[A\u001b[A\n",
      "\n",
      "eer-irr: 7/50 - 14%\u001b[A\u001b[A\n",
      "\n",
      "eer-irr: 8/50 - 16%\u001b[A\u001b[A\n",
      "\n",
      "eer-irr: 9/50 - 18%\u001b[A\u001b[A\n",
      "\n",
      "eer-irr: 10/50 - 20%\u001b[A\u001b[A\n",
      "\n",
      "eer-irr: 11/50 - 22%\u001b[A\u001b[A\n",
      "\n",
      "eer-irr: 12/50 - 24%\u001b[A\u001b[A\n",
      "\n",
      "eer-irr: 13/50 - 26%\u001b[A\u001b[A\n",
      "\n",
      "eer-irr: 14/50 - 28%\u001b[A\u001b[A\n",
      "\n",
      "eer-irr: 15/50 - 30%\u001b[A\u001b[A\n",
      "\n",
      "eer-irr: 16/50 - 32%\u001b[A\u001b[A\n",
      "\n",
      "eer-irr: 17/50 - 34%\u001b[A\u001b[A\n",
      "\n",
      "eer-irr: 18/50 - 36%\u001b[A\u001b[A\n",
      "\n",
      "eer-irr: 19/50 - 38%\u001b[A\u001b[A\n",
      "\n",
      "eer-irr: 20/50 - 40%\u001b[A\u001b[A\n",
      "\n",
      "eer-irr: 21/50 - 42%\u001b[A\u001b[A\n",
      "\n",
      "eer-irr: 22/50 - 44%\u001b[A\u001b[A\n",
      "\n",
      "eer-irr: 23/50 - 46%\u001b[A\u001b[A\n",
      "\n",
      "eer-irr: 24/50 - 48%\u001b[A\u001b[A\n",
      "\n",
      "eer-irr: 25/50 - 50%\u001b[A\u001b[A\n",
      "\n",
      "eer-irr: 26/50 - 52%\u001b[A\u001b[A\n",
      "\n",
      "eer-irr: 27/50 - 54%\u001b[A\u001b[A\n",
      "\n",
      "eer-irr: 28/50 - 56%\u001b[A\u001b[A\n",
      "\n",
      "eer-irr: 29/50 - 58%\u001b[A\u001b[A\n",
      "\n",
      "eer-irr: 30/50 - 60%\u001b[A\u001b[A\n",
      "\n",
      "eer-irr: 31/50 - 62%\u001b[A\u001b[A\n",
      "\n",
      "eer-irr: 32/50 - 64%\u001b[A\u001b[A\n",
      "\n",
      "eer-irr: 33/50 - 66%\u001b[A\u001b[A\n",
      "\n",
      "eer-irr: 34/50 - 68%\u001b[A\u001b[A\n",
      "\n",
      "eer-irr: 35/50 - 70%\u001b[A\u001b[A\n",
      "\n",
      "eer-irr: 36/50 - 72%\u001b[A\u001b[A\n",
      "\n",
      "eer-irr: 37/50 - 74%\u001b[A\u001b[A\n",
      "\n",
      "eer-irr: 38/50 - 76%\u001b[A\u001b[A\n",
      "\n",
      "eer-irr: 39/50 - 78%\u001b[A\u001b[A\n",
      "\n",
      "eer-irr: 40/50 - 80%\u001b[A\u001b[A\n",
      "\n",
      "eer-irr: 41/50 - 82%\u001b[A\u001b[A\n",
      "\n",
      "eer-irr: 42/50 - 84%\u001b[A\u001b[A\n",
      "\n",
      "eer-irr: 43/50 - 86%\u001b[A\u001b[A\n",
      "\n",
      "eer-irr: 44/50 - 88%\u001b[A\u001b[A\n",
      "\n",
      "eer-irr: 45/50 - 90%\u001b[A\u001b[A\n",
      "\n",
      "eer-irr: 46/50 - 92%\u001b[A\u001b[A\n",
      "\n",
      "eer-irr: 47/50 - 94%\u001b[A\u001b[A\n",
      "\n",
      "eer-irr: 48/50 - 96%\u001b[A\u001b[A\n",
      "\n",
      "eer-irr: 49/50 - 98%\u001b[A\u001b[A\n",
      "\n",
      "eer-irr: 50/50 -100%\u001b[A\u001b[A\n"
     ]
    }
   ],
   "source": [
    "size_eer_list = []\n",
    "size_irr_list = []\n",
    "thr_list = np.arange(0,0.5,1/100)\n",
    "for thr in tqdm(thr_list, desc='eer-irr', bar_format='{desc}: {n_fmt}/{total_fmt} -{percentage:3.0f}%'):\n",
    "    try:\n",
    "        cur_names = []\n",
    "        for i,s in enumerate(size):\n",
    "            if s > 0.5 - thr and s < 0.5 + thr:\n",
    "                cur_names.append(names[i])\n",
    "        cur_labels = np.array([int(img_dict[x][0]) for x in cur_names])\n",
    "        cur_sim = np.zeros((len(cur_names), len(cur_names)))\n",
    "        for tx , d in enumerate(cur_names):\n",
    "            sx = int(img_dict[d][1])\n",
    "            for ty, d in enumerate(cur_names):\n",
    "                sy = int(img_dict[d][1])\n",
    "                cur_sim[tx, ty] = sim[sx,sy]\n",
    "        eer, _, _, roc_auc, _ = cal_DET(cur_sim, cur_labels)\n",
    "        irr = 1 - len(cur_names) / len(test_names)\n",
    "        size_eer_list.append(eer)\n",
    "        size_irr_list.append(irr)\n",
    "    except Exception as e:\n",
    "        print(e)"
   ]
  },
  {
   "cell_type": "code",
   "execution_count": 171,
   "metadata": {},
   "outputs": [
    {
     "name": "stderr",
     "output_type": "stream",
     "text": [
      "\n",
      "\n",
      "eer-irr: 0/50 -  0%\u001b[A\u001b[A\n",
      "\n",
      "eer-irr: 3/50 -  6%\u001b[A\u001b[A"
     ]
    },
    {
     "name": "stdout",
     "output_type": "stream",
     "text": [
      "zero-size array to reduction operation maximum which has no identity\n"
     ]
    },
    {
     "name": "stderr",
     "output_type": "stream",
     "text": [
      "\n",
      "\n",
      "eer-irr: 4/50 -  8%\u001b[A\u001b[A\n",
      "\n",
      "eer-irr: 5/50 - 10%\u001b[A\u001b[A\n",
      "\n",
      "eer-irr: 6/50 - 12%\u001b[A\u001b[A\n",
      "\n",
      "eer-irr: 7/50 - 14%\u001b[A\u001b[A\n",
      "\n",
      "eer-irr: 8/50 - 16%\u001b[A\u001b[A\n",
      "\n",
      "eer-irr: 9/50 - 18%\u001b[A\u001b[A\n",
      "\n",
      "eer-irr: 10/50 - 20%\u001b[A\u001b[A\n",
      "\n",
      "eer-irr: 11/50 - 22%\u001b[A\u001b[A\n",
      "\n",
      "eer-irr: 12/50 - 24%\u001b[A\u001b[A\n",
      "\n",
      "eer-irr: 13/50 - 26%\u001b[A\u001b[A\n",
      "\n",
      "eer-irr: 14/50 - 28%\u001b[A\u001b[A\n",
      "\n",
      "eer-irr: 15/50 - 30%\u001b[A\u001b[A\n",
      "\n",
      "eer-irr: 16/50 - 32%\u001b[A\u001b[A\n",
      "\n",
      "eer-irr: 17/50 - 34%\u001b[A\u001b[A\n",
      "\n",
      "eer-irr: 18/50 - 36%\u001b[A\u001b[A\n",
      "\n",
      "eer-irr: 19/50 - 38%\u001b[A\u001b[A\n",
      "\n",
      "eer-irr: 20/50 - 40%\u001b[A\u001b[A\n",
      "\n",
      "eer-irr: 21/50 - 42%\u001b[A\u001b[A\n",
      "\n",
      "eer-irr: 22/50 - 44%\u001b[A\u001b[A\n",
      "\n",
      "eer-irr: 23/50 - 46%\u001b[A\u001b[A\n",
      "\n",
      "eer-irr: 24/50 - 48%\u001b[A\u001b[A\n",
      "\n",
      "eer-irr: 25/50 - 50%\u001b[A\u001b[A\n",
      "\n",
      "eer-irr: 26/50 - 52%\u001b[A\u001b[A\n",
      "\n",
      "eer-irr: 27/50 - 54%\u001b[A\u001b[A\n",
      "\n",
      "eer-irr: 28/50 - 56%\u001b[A\u001b[A\n",
      "\n",
      "eer-irr: 29/50 - 58%\u001b[A\u001b[A\n",
      "\n",
      "eer-irr: 30/50 - 60%\u001b[A\u001b[A\n",
      "\n",
      "eer-irr: 31/50 - 62%\u001b[A\u001b[A\n",
      "\n",
      "eer-irr: 32/50 - 64%\u001b[A\u001b[A\n",
      "\n",
      "eer-irr: 33/50 - 66%\u001b[A\u001b[A\n",
      "\n",
      "eer-irr: 34/50 - 68%\u001b[A\u001b[A\n",
      "\n",
      "eer-irr: 35/50 - 70%\u001b[A\u001b[A\n",
      "\n",
      "eer-irr: 36/50 - 72%\u001b[A\u001b[A\n",
      "\n",
      "eer-irr: 37/50 - 74%\u001b[A\u001b[A\n",
      "\n",
      "eer-irr: 38/50 - 76%\u001b[A\u001b[A\n",
      "\n",
      "eer-irr: 39/50 - 78%\u001b[A\u001b[A\n",
      "\n",
      "eer-irr: 40/50 - 80%\u001b[A\u001b[A\n",
      "\n",
      "eer-irr: 41/50 - 82%\u001b[A\u001b[A\n",
      "\n",
      "eer-irr: 42/50 - 84%\u001b[A\u001b[A\n",
      "\n",
      "eer-irr: 43/50 - 86%\u001b[A\u001b[A\n",
      "\n",
      "eer-irr: 44/50 - 88%\u001b[A\u001b[A\n",
      "\n",
      "eer-irr: 45/50 - 90%\u001b[A\u001b[A\n",
      "\n",
      "eer-irr: 46/50 - 92%\u001b[A\u001b[A\n",
      "\n",
      "eer-irr: 47/50 - 94%\u001b[A\u001b[A\n",
      "\n",
      "eer-irr: 48/50 - 96%\u001b[A\u001b[A\n",
      "\n",
      "eer-irr: 49/50 - 98%\u001b[A\u001b[A\n",
      "\n",
      "eer-irr: 50/50 -100%\u001b[A\u001b[A\n"
     ]
    }
   ],
   "source": [
    "dilation_eer_list = []\n",
    "dilation_irr_list = []\n",
    "thr_list = np.arange(0,0.5,1/100)\n",
    "for thr in tqdm(thr_list, desc='eer-irr', bar_format='{desc}: {n_fmt}/{total_fmt} -{percentage:3.0f}%'):\n",
    "    try:\n",
    "        cur_names = []\n",
    "        for i,s in enumerate(dilation):\n",
    "            if s > 0.5 - thr and s < 0.5 + thr:\n",
    "                cur_names.append(names[i])\n",
    "        cur_labels = np.array([int(img_dict[x][0]) for x in cur_names])\n",
    "        cur_sim = np.zeros((len(cur_names), len(cur_names)))\n",
    "        for tx , d in enumerate(cur_names):\n",
    "            sx = int(img_dict[d][1])\n",
    "            for ty, d in enumerate(cur_names):\n",
    "                sy = int(img_dict[d][1])\n",
    "                cur_sim[tx, ty] = sim[sx,sy]\n",
    "        eer, _, _, roc_auc, _ = cal_DET(cur_sim, cur_labels)\n",
    "        irr = 1 - len(cur_names) / len(test_names)\n",
    "        dilation_eer_list.append(eer)\n",
    "        dilation_irr_list.append(irr)\n",
    "    except Exception as e:\n",
    "        print(e)"
   ]
  },
  {
   "cell_type": "code",
   "execution_count": 172,
   "metadata": {},
   "outputs": [
    {
     "name": "stderr",
     "output_type": "stream",
     "text": [
      "\n",
      "\n",
      "eer-irr: 0/50 -  0%\u001b[A\u001b[A\n",
      "\n",
      "eer-irr: 2/50 -  4%\u001b[A\u001b[A"
     ]
    },
    {
     "name": "stdout",
     "output_type": "stream",
     "text": [
      "zero-size array to reduction operation maximum which has no identity\n"
     ]
    },
    {
     "name": "stderr",
     "output_type": "stream",
     "text": [
      "\n",
      "\n",
      "eer-irr: 3/50 -  6%\u001b[A\u001b[A\n",
      "\n",
      "eer-irr: 4/50 -  8%\u001b[A\u001b[A\n",
      "\n",
      "eer-irr: 5/50 - 10%\u001b[A\u001b[A\n",
      "\n",
      "eer-irr: 6/50 - 12%\u001b[A\u001b[A\n",
      "\n",
      "eer-irr: 7/50 - 14%\u001b[A\u001b[A\n",
      "\n",
      "eer-irr: 8/50 - 16%\u001b[A\u001b[A\n",
      "\n",
      "eer-irr: 9/50 - 18%\u001b[A\u001b[A\n",
      "\n",
      "eer-irr: 10/50 - 20%\u001b[A\u001b[A\n",
      "\n",
      "eer-irr: 11/50 - 22%\u001b[A\u001b[A\n",
      "\n",
      "eer-irr: 12/50 - 24%\u001b[A\u001b[A\n",
      "\n",
      "eer-irr: 13/50 - 26%\u001b[A\u001b[A\n",
      "\n",
      "eer-irr: 14/50 - 28%\u001b[A\u001b[A\n",
      "\n",
      "eer-irr: 15/50 - 30%\u001b[A\u001b[A\n",
      "\n",
      "eer-irr: 16/50 - 32%\u001b[A\u001b[A\n",
      "\n",
      "eer-irr: 17/50 - 34%\u001b[A\u001b[A\n",
      "\n",
      "eer-irr: 18/50 - 36%\u001b[A\u001b[A\n",
      "\n",
      "eer-irr: 19/50 - 38%\u001b[A\u001b[A\n",
      "\n",
      "eer-irr: 20/50 - 40%\u001b[A\u001b[A\n",
      "\n",
      "eer-irr: 21/50 - 42%\u001b[A\u001b[A\n",
      "\n",
      "eer-irr: 22/50 - 44%\u001b[A\u001b[A\n",
      "\n",
      "eer-irr: 23/50 - 46%\u001b[A\u001b[A\n",
      "\n",
      "eer-irr: 24/50 - 48%\u001b[A\u001b[A\n",
      "\n",
      "eer-irr: 25/50 - 50%\u001b[A\u001b[A\n",
      "\n",
      "eer-irr: 26/50 - 52%\u001b[A\u001b[A\n",
      "\n",
      "eer-irr: 27/50 - 54%\u001b[A\u001b[A\n",
      "\n",
      "eer-irr: 28/50 - 56%\u001b[A\u001b[A\n",
      "\n",
      "eer-irr: 29/50 - 58%\u001b[A\u001b[A\n",
      "\n",
      "eer-irr: 30/50 - 60%\u001b[A\u001b[A\n",
      "\n",
      "eer-irr: 31/50 - 62%\u001b[A\u001b[A\n",
      "\n",
      "eer-irr: 32/50 - 64%\u001b[A\u001b[A\n",
      "\n",
      "eer-irr: 33/50 - 66%\u001b[A\u001b[A\n",
      "\n",
      "eer-irr: 34/50 - 68%\u001b[A\u001b[A\n",
      "\n",
      "eer-irr: 35/50 - 70%\u001b[A\u001b[A\n",
      "\n",
      "eer-irr: 36/50 - 72%\u001b[A\u001b[A\n",
      "\n",
      "eer-irr: 37/50 - 74%\u001b[A\u001b[A\n",
      "\n",
      "eer-irr: 38/50 - 76%\u001b[A\u001b[A\n",
      "\n",
      "eer-irr: 39/50 - 78%\u001b[A\u001b[A\n",
      "\n",
      "eer-irr: 40/50 - 80%\u001b[A\u001b[A\n",
      "\n",
      "eer-irr: 41/50 - 82%\u001b[A\u001b[A\n",
      "\n",
      "eer-irr: 42/50 - 84%\u001b[A\u001b[A\n",
      "\n",
      "eer-irr: 43/50 - 86%\u001b[A\u001b[A\n",
      "\n",
      "eer-irr: 44/50 - 88%\u001b[A\u001b[A\n",
      "\n",
      "eer-irr: 45/50 - 90%\u001b[A\u001b[A\n",
      "\n",
      "eer-irr: 46/50 - 92%\u001b[A\u001b[A\n",
      "\n",
      "eer-irr: 47/50 - 94%\u001b[A\u001b[A\n",
      "\n",
      "eer-irr: 48/50 - 96%\u001b[A\u001b[A\n",
      "\n",
      "eer-irr: 49/50 - 98%\u001b[A\u001b[A\n",
      "\n",
      "eer-irr: 50/50 -100%\u001b[A\u001b[A\n"
     ]
    }
   ],
   "source": [
    "gls_eer_list = []\n",
    "gls_irr_list = []\n",
    "thr_list = np.arange(0,0.5,1/100)\n",
    "for thr in tqdm(thr_list, desc='eer-irr', bar_format='{desc}: {n_fmt}/{total_fmt} -{percentage:3.0f}%'):\n",
    "    try:\n",
    "        cur_names = []\n",
    "        for i,s in enumerate(gls):\n",
    "            if s > 0.5 - thr and s < 0.5 + thr:\n",
    "                cur_names.append(names[i])\n",
    "        cur_labels = np.array([int(img_dict[x][0]) for x in cur_names])\n",
    "        cur_sim = np.zeros((len(cur_names), len(cur_names)))\n",
    "        for tx , d in enumerate(cur_names):\n",
    "            sx = int(img_dict[d][1])\n",
    "            for ty, d in enumerate(cur_names):\n",
    "                sy = int(img_dict[d][1])\n",
    "                cur_sim[tx, ty] = sim[sx,sy]\n",
    "        eer, _, _, roc_auc, _ = cal_DET(cur_sim, cur_labels)\n",
    "        irr = 1 - len(cur_names) / len(test_names)\n",
    "        gls_eer_list.append(eer)\n",
    "        gls_irr_list.append(irr)\n",
    "    except Exception as e:\n",
    "        print(e)"
   ]
  },
  {
   "cell_type": "code",
   "execution_count": 173,
   "metadata": {},
   "outputs": [
    {
     "name": "stderr",
     "output_type": "stream",
     "text": [
      "\n",
      "\n",
      "eer-irr: 0/50 -  0%\u001b[A\u001b[A\n",
      "\n",
      "eer-irr: 3/50 -  6%\u001b[A\u001b[A"
     ]
    },
    {
     "name": "stdout",
     "output_type": "stream",
     "text": [
      "zero-size array to reduction operation maximum which has no identity\n"
     ]
    },
    {
     "name": "stderr",
     "output_type": "stream",
     "text": [
      "\n",
      "\n",
      "eer-irr: 4/50 -  8%\u001b[A\u001b[A\n",
      "\n",
      "eer-irr: 5/50 - 10%\u001b[A\u001b[A\n",
      "\n",
      "eer-irr: 6/50 - 12%\u001b[A\u001b[A\n",
      "\n",
      "eer-irr: 7/50 - 14%\u001b[A\u001b[A\n",
      "\n",
      "eer-irr: 8/50 - 16%\u001b[A\u001b[A\n",
      "\n",
      "eer-irr: 9/50 - 18%\u001b[A\u001b[A\n",
      "\n",
      "eer-irr: 10/50 - 20%\u001b[A\u001b[A\n",
      "\n",
      "eer-irr: 11/50 - 22%\u001b[A\u001b[A\n",
      "\n",
      "eer-irr: 12/50 - 24%\u001b[A\u001b[A\n",
      "\n",
      "eer-irr: 13/50 - 26%\u001b[A\u001b[A\n",
      "\n",
      "eer-irr: 14/50 - 28%\u001b[A\u001b[A\n",
      "\n",
      "eer-irr: 15/50 - 30%\u001b[A\u001b[A\n",
      "\n",
      "eer-irr: 16/50 - 32%\u001b[A\u001b[A\n",
      "\n",
      "eer-irr: 17/50 - 34%\u001b[A\u001b[A\n",
      "\n",
      "eer-irr: 18/50 - 36%\u001b[A\u001b[A\n",
      "\n",
      "eer-irr: 19/50 - 38%\u001b[A\u001b[A\n",
      "\n",
      "eer-irr: 20/50 - 40%\u001b[A\u001b[A\n",
      "\n",
      "eer-irr: 21/50 - 42%\u001b[A\u001b[A\n",
      "\n",
      "eer-irr: 22/50 - 44%\u001b[A\u001b[A\n",
      "\n",
      "eer-irr: 23/50 - 46%\u001b[A\u001b[A\n",
      "\n",
      "eer-irr: 24/50 - 48%\u001b[A\u001b[A\n",
      "\n",
      "eer-irr: 25/50 - 50%\u001b[A\u001b[A\n",
      "\n",
      "eer-irr: 26/50 - 52%\u001b[A\u001b[A\n",
      "\n",
      "eer-irr: 27/50 - 54%\u001b[A\u001b[A\n",
      "\n",
      "eer-irr: 28/50 - 56%\u001b[A\u001b[A\n",
      "\n",
      "eer-irr: 29/50 - 58%\u001b[A\u001b[A\n",
      "\n",
      "eer-irr: 30/50 - 60%\u001b[A\u001b[A\n",
      "\n",
      "eer-irr: 31/50 - 62%\u001b[A\u001b[A\n",
      "\n",
      "eer-irr: 32/50 - 64%\u001b[A\u001b[A\n",
      "\n",
      "eer-irr: 33/50 - 66%\u001b[A\u001b[A\n",
      "\n",
      "eer-irr: 34/50 - 68%\u001b[A\u001b[A\n",
      "\n",
      "eer-irr: 35/50 - 70%\u001b[A\u001b[A\n",
      "\n",
      "eer-irr: 36/50 - 72%\u001b[A\u001b[A\n",
      "\n",
      "eer-irr: 37/50 - 74%\u001b[A\u001b[A\n",
      "\n",
      "eer-irr: 38/50 - 76%\u001b[A\u001b[A\n",
      "\n",
      "eer-irr: 39/50 - 78%\u001b[A\u001b[A\n",
      "\n",
      "eer-irr: 40/50 - 80%\u001b[A\u001b[A\n",
      "\n",
      "eer-irr: 41/50 - 82%\u001b[A\u001b[A\n",
      "\n",
      "eer-irr: 42/50 - 84%\u001b[A\u001b[A\n",
      "\n",
      "eer-irr: 43/50 - 86%\u001b[A\u001b[A\n",
      "\n",
      "eer-irr: 44/50 - 88%\u001b[A\u001b[A\n",
      "\n",
      "eer-irr: 45/50 - 90%\u001b[A\u001b[A\n",
      "\n",
      "eer-irr: 46/50 - 92%\u001b[A\u001b[A\n",
      "\n",
      "eer-irr: 47/50 - 94%\u001b[A\u001b[A\n",
      "\n",
      "eer-irr: 48/50 - 96%\u001b[A\u001b[A\n",
      "\n",
      "eer-irr: 49/50 - 98%\u001b[A\u001b[A\n",
      "\n",
      "eer-irr: 50/50 -100%\u001b[A\u001b[A\n"
     ]
    }
   ],
   "source": [
    "uar_eer_list = []\n",
    "uar_irr_list = []\n",
    "thr_list = np.arange(0,0.5,1/100)\n",
    "for thr in tqdm(thr_list, desc='eer-irr', bar_format='{desc}: {n_fmt}/{total_fmt} -{percentage:3.0f}%'):\n",
    "    try:\n",
    "        cur_names = []\n",
    "        for i,s in enumerate(uar):\n",
    "            if s > 0.5 - thr and s < 0.5 + thr:\n",
    "                cur_names.append(names[i])\n",
    "        cur_labels = np.array([int(img_dict[x][0]) for x in cur_names])\n",
    "        cur_sim = np.zeros((len(cur_names), len(cur_names)))\n",
    "        for tx , d in enumerate(cur_names):\n",
    "            sx = int(img_dict[d][1])\n",
    "            for ty, d in enumerate(cur_names):\n",
    "                sy = int(img_dict[d][1])\n",
    "                cur_sim[tx, ty] = sim[sx,sy]\n",
    "        eer, _, _, roc_auc, _ = cal_DET(cur_sim, cur_labels)\n",
    "        irr = 1 - len(cur_names) / len(test_names)\n",
    "        uar_eer_list.append(eer)\n",
    "        uar_irr_list.append(irr)\n",
    "    except Exception as e:\n",
    "        print(e)"
   ]
  },
  {
   "cell_type": "code",
   "execution_count": 174,
   "metadata": {},
   "outputs": [],
   "source": [
    "saved = {'uar_eer':uar_eer_list, 'uar_irr':uar_irr_list, 'gls_eer':gls_eer_list, 'gls_irr':gls_irr_list,'dilation_eer':dilation_eer_list, 'dilation_irr':dilation_irr_list,'size_eer':size_eer_list, 'size_irr':size_irr_list,'fm_eer':fm_eer_list, 'fm_irr':fm_irr_list,'p_eer':p_eer_list, 'p_irr':p_irr_list,'t_eer':t_eer_list, 't_irr':t_irr_list}"
   ]
  },
  {
   "cell_type": "code",
   "execution_count": 175,
   "metadata": {},
   "outputs": [],
   "source": [
    "import  pickle\n",
    "with open('result/result.pkl', 'wb') as f:\n",
    "    pickle.dump(saved,f)\n",
    "with open('result/result.pkl', 'rb') as f:\n",
    "    saved2 = pickle.load(f)"
   ]
  },
  {
   "cell_type": "code",
   "execution_count": 218,
   "metadata": {},
   "outputs": [
    {
     "data": {
      "image/png": "[encoded data removed]",
      "text/plain": [
       "<Figure size 432x288 with 1 Axes>"
      ]
     },
     "metadata": {
      "needs_background": "light"
     },
     "output_type": "display_data"
    }
   ],
   "source": [
    "plt.figure()\n",
    "\n",
    "plt.plot(x, y, linestyle='-.',color='gray', label='Dataset')\n",
    "plt.plot(t_irr_list, t_eer_list, color='r',linestyle=':',  label='DFS')\n",
    "plt.plot(p_irr_list, p_eer_list, color='b', label='Ours')\n",
    "plt.plot(uar_irr_list, uar_eer_list, color='g', label='Usable area')\n",
    "plt.plot(gls_irr_list, gls_eer_list, color='c', label='GLS')\n",
    "plt.plot(dilation_irr_list, dilation_eer_list, color='m', label='Dilation')\n",
    "plt.plot(size_irr_list, size_eer_list, color='y', label='Iris size')\n",
    "plt.plot(fm_irr_list, fm_eer_list, color='k', label='Sharpness')\n",
    "\n",
    "# plt.xlim(-0.005,0.95)\n",
    "plt.ylim(-0.005,0.15)\n",
    "plt.xlabel('IRR', fontsize=15)\n",
    "plt.ylabel('EER', fontsize=15)\n",
    "# plt.xticks(np.arange(0,1,0.1), fontsize=15)\n",
    "plt.yticks(fontsize=15)\n",
    "plt.legend(loc=2, bbox_to_anchor=(1.05,1.0),borderaxespad = 0, fontsize=15)\n",
    "plt.savefig('result/eer_irr_hd_SD.png')\n",
    "plt.show()"
   ]
  },
  {
   "cell_type": "code",
   "execution_count": 177,
   "metadata": {},
   "outputs": [
    {
     "name": "stdout",
     "output_type": "stream",
     "text": [
      "t [12.4, 3.65, 1.09, 0.07, 0.0, 0.0]\n",
      "p [12.4, 7.84, 3.52, 1.31, 1.49, 0.92]\n",
      "fm [12.37, 11.91, 11.27, 11.44, 10.53, 10.23]\n",
      "size [12.35, 12.39, 12.75, 12.7, 11.79, 11.92]\n",
      "uar [12.37, 11.0, 10.89, 10.43, 10.47, 10.4]\n",
      "gls [12.38, 10.66, 9.55, 9.35, 6.55, 4.77]\n",
      "dilation [12.36, 11.95, 12.24, 11.71, 12.1, 10.47]\n"
     ]
    }
   ],
   "source": [
    "def pre(eer, irr):\n",
    "    return [int(eer[np.argmin(np.abs(irr - x))]*100*100)/100 for x in [0, 0.2, 0.4, 0.6, 0.8, 0.9]]\n",
    "\n",
    "t_irr = np.array(t_irr_list)\n",
    "t_eer = np.array(t_eer_list)\n",
    "print('t', pre(t_eer,t_irr))\n",
    "\n",
    "p_irr = np.array(p_irr_list)\n",
    "p_eer = np.array(p_eer_list)\n",
    "print('p', pre(p_eer,p_irr))\n",
    "\n",
    "fm_irr = np.array(fm_irr_list)\n",
    "fm_eer = np.array(fm_eer_list)\n",
    "print('fm', pre(fm_eer,fm_irr))\n",
    "\n",
    "size_irr = np.array(size_irr_list)\n",
    "size_eer = np.array(size_eer_list)\n",
    "print('size', pre(size_eer,size_irr))\n",
    "\n",
    "uar_irr = np.array(uar_irr_list)\n",
    "uar_eer = np.array(uar_eer_list)\n",
    "print('uar', pre(uar_eer,uar_irr))\n",
    "\n",
    "gls_irr = np.array(gls_irr_list)\n",
    "gls_eer = np.array(gls_eer_list)\n",
    "print('gls', pre(gls_eer,gls_irr))\n",
    "\n",
    "dilation_irr = np.array(dilation_irr_list)\n",
    "dilation_eer = np.array(dilation_eer_list)\n",
    "print('dilation', pre(dilation_eer,dilation_irr))"
   ]
  },
  {
   "cell_type": "code",
   "execution_count": null,
   "metadata": {},
   "outputs": [],
   "source": []
  }
 ],
 "metadata": {
  "file_extension": ".py",
  "kernelspec": {
   "display_name": "Python 3",
   "language": "python",
   "name": "python3"
  },
  "language_info": {
   "codemirror_mode": {
    "name": "ipython",
    "version": 3
   },
   "file_extension": ".py",
   "mimetype": "text/x-python",
   "name": "python",
   "nbconvert_exporter": "python",
   "pygments_lexer": "ipython3",
   "version": "3.7.3"
  },
  "mimetype": "text/x-python",
  "name": "python",
  "npconvert_exporter": "python",
  "pygments_lexer": "ipython3",
  "version": 3
 },
 "nbformat": 4,
 "nbformat_minor": 2
}
